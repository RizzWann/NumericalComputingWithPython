{
 "cells": [
  {
   "cell_type": "code",
   "execution_count": 3,
   "id": "4c47c8e0",
   "metadata": {},
   "outputs": [
    {
     "name": "stdout",
     "output_type": "stream",
     "text": [
      "hi i m rizz\n"
     ]
    }
   ],
   "source": [
    "print(\"hi i m rizz\")"
   ]
  },
  {
   "cell_type": "code",
   "execution_count": 20,
   "id": "7d89123d",
   "metadata": {},
   "outputs": [],
   "source": [
    "class Vector:\n",
    "    def __init__(self, x=0.0,y=0.0):\n",
    "        self.x=x\n",
    "        self.y=y\n",
    "    def __str__(self):\n",
    "        return \"[{},{}]\".format(str(self.x),str(self.y))"
   ]
  },
  {
   "cell_type": "code",
   "execution_count": 21,
   "id": "0aa96f34",
   "metadata": {},
   "outputs": [],
   "source": [
    "a = Vector(2,4)"
   ]
  },
  {
   "cell_type": "code",
   "execution_count": 22,
   "id": "cdb17db0",
   "metadata": {},
   "outputs": [
    {
     "name": "stdout",
     "output_type": "stream",
     "text": [
      "[2,4]\n"
     ]
    }
   ],
   "source": [
    "print(a)"
   ]
  },
  {
   "cell_type": "code",
   "execution_count": 24,
   "id": "d63e4ab0",
   "metadata": {},
   "outputs": [
    {
     "name": "stdout",
     "output_type": "stream",
     "text": [
      "[5,2]\n"
     ]
    }
   ],
   "source": [
    "b=Vector(5,2)\n",
    "print(b)"
   ]
  },
  {
   "cell_type": "code",
   "execution_count": 25,
   "id": "6cf2599c",
   "metadata": {},
   "outputs": [],
   "source": [
    "def add(self, b):\n",
    "    c=Vector()\n",
    "    c.x=self.x+b.x\n",
    "    c.y=self.y+b.y\n",
    "    return c\n",
    "\n",
    "Vector.add=add"
   ]
  },
  {
   "cell_type": "code",
   "execution_count": 26,
   "id": "f197f676",
   "metadata": {},
   "outputs": [
    {
     "name": "stdout",
     "output_type": "stream",
     "text": [
      "[7,6]\n"
     ]
    }
   ],
   "source": [
    "c=a.add(b)\n",
    "print(c)"
   ]
  },
  {
   "cell_type": "code",
   "execution_count": 27,
   "id": "2fb5b5f6",
   "metadata": {},
   "outputs": [],
   "source": [
    "def mul(self,s):\n",
    "    return Vector(s* self.x, s* self.y)\n",
    "\n",
    "Vector.mul=mul"
   ]
  },
  {
   "cell_type": "code",
   "execution_count": 28,
   "id": "e6ae310c",
   "metadata": {},
   "outputs": [
    {
     "name": "stdout",
     "output_type": "stream",
     "text": [
      "[4,8]\n"
     ]
    }
   ],
   "source": [
    "d=a.mul(2)\n",
    "print(d)"
   ]
  },
  {
   "cell_type": "code",
   "execution_count": 29,
   "id": "e06ed7e3",
   "metadata": {},
   "outputs": [],
   "source": [
    "def sub(self,b):\n",
    "    return self.add(b.mul(-1))\n",
    "Vector.sub=sub"
   ]
  },
  {
   "cell_type": "code",
   "execution_count": 30,
   "id": "6c4c8211",
   "metadata": {},
   "outputs": [
    {
     "name": "stdout",
     "output_type": "stream",
     "text": [
      "[-3,2]\n"
     ]
    }
   ],
   "source": [
    "e=a.sub(b)\n",
    "print(e)"
   ]
  },
  {
   "cell_type": "markdown",
   "id": "997e5fda",
   "metadata": {},
   "source": [
    "# 1.2 Matrix Representation (Dense)"
   ]
  },
  {
   "cell_type": "code",
   "execution_count": 3,
   "id": "d41acf07",
   "metadata": {},
   "outputs": [],
   "source": [
    "class Matrix:\n",
    "    def __init__(self,dims,fill):\n",
    "        self.rows=dims[0]\n",
    "        self.cols=dims[1]\n",
    "        print(self.rows,'X',self.cols, 'Matrix created')\n",
    "        self.A=[\n",
    "            [fill]*self.cols # for each row many cols[0.0 0.0 0.0 ...] \n",
    "            for i in range(self.rows) #create many rows\n",
    "        ]\n",
    "     \n",
    "                "
   ]
  },
  {
   "cell_type": "code",
   "execution_count": 4,
   "id": "dcbdb4bd",
   "metadata": {},
   "outputs": [
    {
     "name": "stdout",
     "output_type": "stream",
     "text": [
      "3 X 4 Matrix created\n"
     ]
    }
   ],
   "source": [
    "m=Matrix((3,4),2.0)"
   ]
  },
  {
   "cell_type": "code",
   "execution_count": 5,
   "id": "d7ab81dc",
   "metadata": {},
   "outputs": [
    {
     "name": "stdout",
     "output_type": "stream",
     "text": [
      "<__main__.Matrix object at 0x00000206A9A6B610>\n"
     ]
    }
   ],
   "source": [
    "print(m)"
   ]
  },
  {
   "cell_type": "code",
   "execution_count": 6,
   "id": "128594fd",
   "metadata": {},
   "outputs": [],
   "source": [
    "def __str__(self):\n",
    "    ret=''\n",
    "    for i in range(self.rows):\n",
    "        for j in range(self.cols):\n",
    "            ret+=str(self.A[i][j])+'\\t'\n",
    "        ret+='\\n'\n",
    "    return ret    \n",
    "Matrix.__str__=__str__"
   ]
  },
  {
   "cell_type": "code",
   "execution_count": 7,
   "id": "de2908ba",
   "metadata": {},
   "outputs": [
    {
     "name": "stdout",
     "output_type": "stream",
     "text": [
      "100 X 100 Matrix created\n",
      "CPU times: total: 0 ns\n",
      "Wall time: 1 ms\n"
     ]
    }
   ],
   "source": [
    "%time n=Matrix((100,100),0.0)"
   ]
  },
  {
   "cell_type": "markdown",
   "id": "71b3c62b",
   "metadata": {},
   "source": [
    "# 1.2.1 Memory Usage"
   ]
  },
  {
   "cell_type": "code",
   "execution_count": 8,
   "id": "85124d47",
   "metadata": {},
   "outputs": [
    {
     "name": "stdout",
     "output_type": "stream",
     "text": [
      "48\n",
      "48\n"
     ]
    }
   ],
   "source": [
    "from sys import getsizeof\n",
    "print(getsizeof(m))\n",
    "print(getsizeof(n))\n",
    "# it just retrun head size"
   ]
  },
  {
   "cell_type": "code",
   "execution_count": null,
   "id": "69fefbeb",
   "metadata": {},
   "outputs": [],
   "source": [
    "!pip install pympler"
   ]
  },
  {
   "cell_type": "code",
   "execution_count": 9,
   "id": "4fbe55b6",
   "metadata": {},
   "outputs": [],
   "source": [
    "from pympler.asizeof import asizeof"
   ]
  },
  {
   "cell_type": "code",
   "execution_count": 10,
   "id": "a093ea1c",
   "metadata": {},
   "outputs": [
    {
     "data": {
      "text/plain": [
       "(760, 86896)"
      ]
     },
     "execution_count": 10,
     "metadata": {},
     "output_type": "execute_result"
    }
   ],
   "source": [
    "asizeof(m),asizeof(n)"
   ]
  },
  {
   "cell_type": "code",
   "execution_count": 17,
   "id": "96e57cdf",
   "metadata": {},
   "outputs": [],
   "source": [
    "dim=1000"
   ]
  },
  {
   "cell_type": "code",
   "execution_count": 18,
   "id": "aafa190c",
   "metadata": {},
   "outputs": [
    {
     "name": "stdout",
     "output_type": "stream",
     "text": [
      "1000 X 1000 Matrix created\n",
      "CPU times: total: 0 ns\n",
      "Wall time: 13 ms\n"
     ]
    }
   ],
   "source": [
    "%time m=Matrix((dim,dim),0.0)"
   ]
  },
  {
   "cell_type": "code",
   "execution_count": 50,
   "id": "7506c709",
   "metadata": {},
   "outputs": [
    {
     "name": "stdout",
     "output_type": "stream",
     "text": [
      "0.00 MBs\n"
     ]
    }
   ],
   "source": [
    "size=asizeof(m)/(1024*1024)\n",
    "print(\"{:.2f} MBs\".format(size))"
   ]
  },
  {
   "cell_type": "code",
   "execution_count": 20,
   "id": "39061b78",
   "metadata": {},
   "outputs": [],
   "source": [
    "def get(self,i,j):\n",
    "    if i<0 or i> self.rows:\n",
    "        raise ValueError('Row index out of range')\n",
    "    if j<0 or j> self.cols:\n",
    "        raise ValueError('Cols index out of range')\n",
    "    return self.A[i][j]    \n",
    "Matrix.get=get"
   ]
  },
  {
   "cell_type": "code",
   "execution_count": null,
   "id": "815f9e4d",
   "metadata": {},
   "outputs": [],
   "source": [
    "m.get(500,500)"
   ]
  },
  {
   "cell_type": "markdown",
   "id": "4ec3c970",
   "metadata": {},
   "source": [
    "# Matrix Representation (spare)"
   ]
  },
  {
   "cell_type": "code",
   "execution_count": 24,
   "id": "fac05c47",
   "metadata": {},
   "outputs": [],
   "source": [
    "class Matrix:\n",
    "    def __init__(self,dim):\n",
    "        self.rows=dim[0]\n",
    "        self.cols=dim[1]\n",
    "        self.vals={} # create empty dictionary"
   ]
  },
  {
   "cell_type": "code",
   "execution_count": 25,
   "id": "686cf9a1",
   "metadata": {},
   "outputs": [],
   "source": [
    "def set(self,i,j,val):\n",
    "    self.vals[(i,j)]=val\n",
    "    \n",
    "Matrix.set = set    "
   ]
  },
  {
   "cell_type": "code",
   "execution_count": 46,
   "id": "cc7083f3",
   "metadata": {},
   "outputs": [],
   "source": [
    "def get(self,i,j):\n",
    "    if i<0 or i> self.rows:\n",
    "        raise ValueError(\"Index of row out of range\")\n",
    "    if j<0 or j>self.cols:\n",
    "        raise ValueError(\"Index of col out of range\")\n",
    "    if (i,j) not in self.vals:\n",
    "        return 0.0\n",
    "    return self.vals[(i,j)]\n",
    "Matrix.get=get    "
   ]
  },
  {
   "cell_type": "code",
   "execution_count": 41,
   "id": "7a8f1f7e",
   "metadata": {},
   "outputs": [],
   "source": [
    "m=Matrix((5,5))"
   ]
  },
  {
   "cell_type": "code",
   "execution_count": 42,
   "id": "fbd7526a",
   "metadata": {},
   "outputs": [
    {
     "name": "stdout",
     "output_type": "stream",
     "text": [
      "{}\n"
     ]
    }
   ],
   "source": [
    "print(m.vals)"
   ]
  },
  {
   "cell_type": "code",
   "execution_count": 43,
   "id": "c687c7c9",
   "metadata": {},
   "outputs": [
    {
     "data": {
      "text/plain": [
       "0.0"
      ]
     },
     "execution_count": 43,
     "metadata": {},
     "output_type": "execute_result"
    }
   ],
   "source": [
    "m.get(1,1)"
   ]
  },
  {
   "cell_type": "code",
   "execution_count": 47,
   "id": "959221a7",
   "metadata": {},
   "outputs": [],
   "source": [
    "m.set(1,2,15.0)"
   ]
  },
  {
   "cell_type": "code",
   "execution_count": 48,
   "id": "9a089cb3",
   "metadata": {},
   "outputs": [
    {
     "data": {
      "text/plain": [
       "15.0"
      ]
     },
     "execution_count": 48,
     "metadata": {},
     "output_type": "execute_result"
    }
   ],
   "source": [
    "m.get(1,2)"
   ]
  },
  {
   "cell_type": "code",
   "execution_count": 51,
   "id": "f827f907",
   "metadata": {},
   "outputs": [
    {
     "name": "stdout",
     "output_type": "stream",
     "text": [
      "0.0006942749 MBs\n"
     ]
    }
   ],
   "source": [
    "size=asizeof(m)/(1024*1024)\n",
    "print(\"{:.10f} MBs\".format(size))"
   ]
  },
  {
   "cell_type": "markdown",
   "id": "c898671e",
   "metadata": {},
   "source": [
    "# Matrix Operations"
   ]
  },
  {
   "cell_type": "code",
   "execution_count": 52,
   "id": "e401cb89",
   "metadata": {},
   "outputs": [],
   "source": [
    "import numpy as np"
   ]
  },
  {
   "cell_type": "code",
   "execution_count": 53,
   "id": "a2efbd89",
   "metadata": {},
   "outputs": [
    {
     "data": {
      "text/plain": [
       "array([[0., 0., 0., 0., 0.],\n",
       "       [0., 0., 0., 0., 0.],\n",
       "       [0., 0., 0., 0., 0.]])"
      ]
     },
     "execution_count": 53,
     "metadata": {},
     "output_type": "execute_result"
    }
   ],
   "source": [
    "np.zeros((3,5))"
   ]
  },
  {
   "cell_type": "code",
   "execution_count": 55,
   "id": "fd17020b",
   "metadata": {},
   "outputs": [
    {
     "data": {
      "text/plain": [
       "array([[1., 1., 1., 1., 1.],\n",
       "       [1., 1., 1., 1., 1.],\n",
       "       [1., 1., 1., 1., 1.]])"
      ]
     },
     "execution_count": 55,
     "metadata": {},
     "output_type": "execute_result"
    }
   ],
   "source": [
    "np.ones((3,5))"
   ]
  },
  {
   "cell_type": "code",
   "execution_count": 56,
   "id": "6f962a98",
   "metadata": {},
   "outputs": [
    {
     "data": {
      "text/plain": [
       "array([1, 2, 3, 4, 5, 6])"
      ]
     },
     "execution_count": 56,
     "metadata": {},
     "output_type": "execute_result"
    }
   ],
   "source": [
    "a=np.arange(1,7)\n",
    "a"
   ]
  },
  {
   "cell_type": "code",
   "execution_count": 57,
   "id": "6c40b04a",
   "metadata": {},
   "outputs": [],
   "source": [
    "a[3]=7"
   ]
  },
  {
   "cell_type": "code",
   "execution_count": 58,
   "id": "f030b2bb",
   "metadata": {},
   "outputs": [
    {
     "data": {
      "text/plain": [
       "array([1, 2, 3])"
      ]
     },
     "execution_count": 58,
     "metadata": {},
     "output_type": "execute_result"
    }
   ],
   "source": [
    "a[:3]"
   ]
  },
  {
   "cell_type": "code",
   "execution_count": 59,
   "id": "8203e97d",
   "metadata": {},
   "outputs": [
    {
     "data": {
      "text/plain": [
       "array([1, 2, 3, 7])"
      ]
     },
     "execution_count": 59,
     "metadata": {},
     "output_type": "execute_result"
    }
   ],
   "source": [
    "a[:4]"
   ]
  },
  {
   "cell_type": "code",
   "execution_count": 60,
   "id": "d86cf167",
   "metadata": {},
   "outputs": [],
   "source": [
    "a[1:4]=[9,8,7]"
   ]
  },
  {
   "cell_type": "code",
   "execution_count": 61,
   "id": "34188ae5",
   "metadata": {},
   "outputs": [
    {
     "data": {
      "text/plain": [
       "array([1, 9, 8, 7, 5, 6])"
      ]
     },
     "execution_count": 61,
     "metadata": {},
     "output_type": "execute_result"
    }
   ],
   "source": [
    "a"
   ]
  },
  {
   "cell_type": "code",
   "execution_count": 63,
   "id": "4cc4287c",
   "metadata": {},
   "outputs": [
    {
     "data": {
      "text/plain": [
       "(6,)"
      ]
     },
     "execution_count": 63,
     "metadata": {},
     "output_type": "execute_result"
    }
   ],
   "source": [
    "a.shape"
   ]
  },
  {
   "cell_type": "code",
   "execution_count": 64,
   "id": "b6fc1db5",
   "metadata": {},
   "outputs": [
    {
     "data": {
      "text/plain": [
       "array([[1., 2.],\n",
       "       [0., 4.]])"
      ]
     },
     "execution_count": 64,
     "metadata": {},
     "output_type": "execute_result"
    }
   ],
   "source": [
    "b=np.zeros((2,2))\n",
    "b[0,0]=1\n",
    "b[0,1]=2\n",
    "b[1,1]=4\n",
    "b"
   ]
  },
  {
   "cell_type": "code",
   "execution_count": 65,
   "id": "6d686b67",
   "metadata": {},
   "outputs": [
    {
     "data": {
      "text/plain": [
       "(2, 2)"
      ]
     },
     "execution_count": 65,
     "metadata": {},
     "output_type": "execute_result"
    }
   ],
   "source": [
    "b.shape"
   ]
  },
  {
   "cell_type": "code",
   "execution_count": 66,
   "id": "414c8614",
   "metadata": {},
   "outputs": [
    {
     "name": "stdout",
     "output_type": "stream",
     "text": [
      "[[1. 2.]\n",
      " [0. 4.]]\n"
     ]
    }
   ],
   "source": [
    "print(b)"
   ]
  },
  {
   "cell_type": "code",
   "execution_count": null,
   "id": "3e2bf3ba",
   "metadata": {},
   "outputs": [],
   "source": [
    "b+2"
   ]
  },
  {
   "cell_type": "code",
   "execution_count": null,
   "id": "7599d232",
   "metadata": {},
   "outputs": [],
   "source": [
    "2*b"
   ]
  },
  {
   "cell_type": "code",
   "execution_count": null,
   "id": "6acd5bf3",
   "metadata": {},
   "outputs": [],
   "source": [
    "b**2 # sqr of matrix"
   ]
  },
  {
   "cell_type": "code",
   "execution_count": null,
   "id": "cbbde024",
   "metadata": {},
   "outputs": [],
   "source": [
    "sum(b) #built in python"
   ]
  },
  {
   "cell_type": "code",
   "execution_count": 72,
   "id": "6d7381a7",
   "metadata": {},
   "outputs": [
    {
     "data": {
      "text/plain": [
       "7.0"
      ]
     },
     "execution_count": 72,
     "metadata": {},
     "output_type": "execute_result"
    }
   ],
   "source": [
    "b.sum() #numpy sum"
   ]
  },
  {
   "cell_type": "code",
   "execution_count": 75,
   "id": "48a52185",
   "metadata": {},
   "outputs": [
    {
     "data": {
      "text/plain": [
       "array([[1., 2.],\n",
       "       [0., 4.]])"
      ]
     },
     "execution_count": 75,
     "metadata": {},
     "output_type": "execute_result"
    }
   ],
   "source": [
    "b"
   ]
  },
  {
   "cell_type": "code",
   "execution_count": 80,
   "id": "a4b5769d",
   "metadata": {},
   "outputs": [
    {
     "data": {
      "text/plain": [
       "(2,)"
      ]
     },
     "execution_count": 80,
     "metadata": {},
     "output_type": "execute_result"
    }
   ],
   "source": [
    "b.sum(axis=0) # col sum it will return rank 1 matrix"
   ]
  },
  {
   "cell_type": "code",
   "execution_count": 76,
   "id": "d9109169",
   "metadata": {},
   "outputs": [
    {
     "data": {
      "text/plain": [
       "array([3., 4.])"
      ]
     },
     "execution_count": 76,
     "metadata": {},
     "output_type": "execute_result"
    }
   ],
   "source": [
    "b.sum(axis=1) # row sum"
   ]
  },
  {
   "cell_type": "code",
   "execution_count": 77,
   "id": "c4643e17",
   "metadata": {},
   "outputs": [],
   "source": [
    "b=np.array([[1,2],[3,4]])\n",
    "d=np.array([[3,4],[5,6]])\n"
   ]
  },
  {
   "cell_type": "code",
   "execution_count": 78,
   "id": "ca7bae83",
   "metadata": {},
   "outputs": [
    {
     "name": "stdout",
     "output_type": "stream",
     "text": [
      "[[1 2]\n",
      " [3 4]]\n",
      "[[3 4]\n",
      " [5 6]]\n"
     ]
    }
   ],
   "source": [
    "print(b)\n",
    "print(d)"
   ]
  },
  {
   "cell_type": "code",
   "execution_count": 79,
   "id": "977c51c5",
   "metadata": {},
   "outputs": [
    {
     "data": {
      "text/plain": [
       "array([[ 4,  6],\n",
       "       [ 8, 10]])"
      ]
     },
     "execution_count": 79,
     "metadata": {},
     "output_type": "execute_result"
    }
   ],
   "source": [
    "b+d"
   ]
  },
  {
   "cell_type": "code",
   "execution_count": 81,
   "id": "b4030e83",
   "metadata": {},
   "outputs": [
    {
     "data": {
      "text/plain": [
       "array([[ 3,  8],\n",
       "       [15, 24]])"
      ]
     },
     "execution_count": 81,
     "metadata": {},
     "output_type": "execute_result"
    }
   ],
   "source": [
    "b*d # it is element multlipication"
   ]
  },
  {
   "cell_type": "code",
   "execution_count": 82,
   "id": "08ea8b44",
   "metadata": {},
   "outputs": [
    {
     "data": {
      "text/plain": [
       "array([[13, 16],\n",
       "       [29, 36]])"
      ]
     },
     "execution_count": 82,
     "metadata": {},
     "output_type": "execute_result"
    }
   ],
   "source": [
    "b.dot(d) #it is matrix mult"
   ]
  },
  {
   "cell_type": "code",
   "execution_count": 83,
   "id": "6552130a",
   "metadata": {},
   "outputs": [
    {
     "data": {
      "text/plain": [
       "array([[   1,   16],\n",
       "       [ 243, 4096]])"
      ]
     },
     "execution_count": 83,
     "metadata": {},
     "output_type": "execute_result"
    }
   ],
   "source": [
    "b**d"
   ]
  },
  {
   "cell_type": "code",
   "execution_count": 84,
   "id": "b0bca0a6",
   "metadata": {},
   "outputs": [
    {
     "data": {
      "text/plain": [
       "array([[1, 3],\n",
       "       [2, 4]])"
      ]
     },
     "execution_count": 84,
     "metadata": {},
     "output_type": "execute_result"
    }
   ],
   "source": [
    "b.T #transpose"
   ]
  },
  {
   "cell_type": "code",
   "execution_count": 85,
   "id": "c1e72f82",
   "metadata": {},
   "outputs": [
    {
     "name": "stdout",
     "output_type": "stream",
     "text": [
      "6.0\n"
     ]
    }
   ],
   "source": [
    "# Numpy has Broadcatsing or Mapping function\n",
    "print(np.sqrt(36))"
   ]
  },
  {
   "cell_type": "code",
   "execution_count": 87,
   "id": "47208648",
   "metadata": {},
   "outputs": [
    {
     "name": "stdout",
     "output_type": "stream",
     "text": [
      "[1. 2. 3. 4.]\n"
     ]
    }
   ],
   "source": [
    "x=[1,4,9,16]\n",
    "print(np.sqrt(x))"
   ]
  },
  {
   "cell_type": "code",
   "execution_count": 88,
   "id": "7e22273d",
   "metadata": {},
   "outputs": [],
   "source": [
    "#checking condition\n",
    "x= np.array([1,2,4,5,9,3])\n",
    "y=np.array([0,2,3,1,2,3])"
   ]
  },
  {
   "cell_type": "code",
   "execution_count": 89,
   "id": "79ede7ed",
   "metadata": {},
   "outputs": [
    {
     "data": {
      "text/plain": [
       "array([False, False,  True,  True,  True, False])"
      ]
     },
     "execution_count": 89,
     "metadata": {},
     "output_type": "execute_result"
    }
   ],
   "source": [
    "x>3 # from 0 to n element compare with 3"
   ]
  },
  {
   "cell_type": "code",
   "execution_count": 91,
   "id": "ea98af10",
   "metadata": {},
   "outputs": [
    {
     "data": {
      "text/plain": [
       "array([ True, False,  True,  True,  True, False])"
      ]
     },
     "execution_count": 91,
     "metadata": {},
     "output_type": "execute_result"
    }
   ],
   "source": [
    "x>y # x[i]>y[i]"
   ]
  },
  {
   "cell_type": "markdown",
   "id": "a7dd1dc4",
   "metadata": {},
   "source": [
    "# 2. Misc Operations with Numpy"
   ]
  },
  {
   "cell_type": "code",
   "execution_count": 92,
   "id": "83db407f",
   "metadata": {},
   "outputs": [],
   "source": [
    "import math\n",
    "def basic_sigmoid(x):\n",
    "    \"\"\"\n",
    "    compute sigmoid of x \n",
    "    \n",
    "    Arguments:\n",
    "    x -- A scalar\n",
    "    \n",
    "    Return:\n",
    "    s -- sigmoid(x)\n",
    "    \"\"\"\n",
    "    s=1./(1. + math.e ** (-x))\n",
    "    return s\n",
    "    "
   ]
  },
  {
   "cell_type": "code",
   "execution_count": null,
   "id": "795566d0",
   "metadata": {},
   "outputs": [],
   "source": [
    "basic_sigmoid(-6)"
   ]
  },
  {
   "cell_type": "code",
   "execution_count": null,
   "id": "3efddaf9",
   "metadata": {},
   "outputs": [],
   "source": [
    "help(basic_sigmoid)"
   ]
  },
  {
   "cell_type": "code",
   "execution_count": null,
   "id": "73523f4c",
   "metadata": {},
   "outputs": [],
   "source": [
    "x=[-1,0,3]\n",
    "basic_sigmoid(x)"
   ]
  },
  {
   "cell_type": "code",
   "execution_count": 103,
   "id": "c61bb345",
   "metadata": {},
   "outputs": [],
   "source": [
    "x=np.array(x)"
   ]
  },
  {
   "cell_type": "code",
   "execution_count": 104,
   "id": "6e3b11f5",
   "metadata": {},
   "outputs": [
    {
     "data": {
      "text/plain": [
       "array([0.26894142, 0.5       , 0.95257413])"
      ]
     },
     "execution_count": 104,
     "metadata": {},
     "output_type": "execute_result"
    }
   ],
   "source": [
    "basic_sigmoid(x)"
   ]
  },
  {
   "cell_type": "markdown",
   "id": "21e402c6",
   "metadata": {},
   "source": [
    "# 2.1 Broadcasting"
   ]
  },
  {
   "cell_type": "code",
   "execution_count": 105,
   "id": "7a2d57bc",
   "metadata": {},
   "outputs": [
    {
     "data": {
      "text/plain": [
       "array([3, 6, 9])"
      ]
     },
     "execution_count": 105,
     "metadata": {},
     "output_type": "execute_result"
    }
   ],
   "source": [
    "# What is broadcasting \n",
    "x = np.array([1,2,3]) \n",
    "x*3"
   ]
  },
  {
   "cell_type": "code",
   "execution_count": 106,
   "id": "6f71e4bb",
   "metadata": {},
   "outputs": [
    {
     "data": {
      "text/plain": [
       "array([4, 5, 6])"
      ]
     },
     "execution_count": 106,
     "metadata": {},
     "output_type": "execute_result"
    }
   ],
   "source": [
    "x+3 #why is is working we cant add a vector with scalar"
   ]
  },
  {
   "cell_type": "markdown",
   "id": "a46e0c24",
   "metadata": {},
   "source": [
    "**Genral rule:**<br>\n",
    "    Two dimensions are compatible when<br>\n",
    "    1). They are equal<br>(means there dim same)<br>\n",
    "    2). one of them is 1<br>\n",
    "    has only one element\n",
    "    <br>(means it can be broadcast(1+2,2+1,3+1))"
   ]
  },
  {
   "cell_type": "code",
   "execution_count": 112,
   "id": "dabad79e",
   "metadata": {},
   "outputs": [
    {
     "name": "stdout",
     "output_type": "stream",
     "text": [
      "x= [0 1 2 3]\n",
      "xx= [[0]\n",
      " [1]\n",
      " [2]\n",
      " [3]]\n",
      "y= [1. 1. 1. 1. 1.]\n",
      "z= [[1. 1. 1. 1.]\n",
      " [1. 1. 1. 1.]\n",
      " [1. 1. 1. 1.]]\n",
      "======================\n",
      "Shapes\n",
      "(4,) (4, 1) (5,) (3, 4)\n"
     ]
    }
   ],
   "source": [
    "x=np.arange(4)\n",
    "xx=x.reshape(4,1)\n",
    "y=np.ones(5)\n",
    "z=np.ones((3,4))\n",
    "\n",
    "print('x=',x)\n",
    "print('xx=',xx)\n",
    "print('y=',y)\n",
    "print('z=',z)\n",
    "print('======================')\n",
    "print('Shapes')\n",
    "print(x.shape,xx.shape,y.shape,z.shape)"
   ]
  },
  {
   "cell_type": "code",
   "execution_count": 113,
   "id": "a925906f",
   "metadata": {},
   "outputs": [
    {
     "ename": "ValueError",
     "evalue": "operands could not be broadcast together with shapes (4,) (5,) ",
     "output_type": "error",
     "traceback": [
      "\u001b[1;31m---------------------------------------------------------------------------\u001b[0m",
      "\u001b[1;31mValueError\u001b[0m                                Traceback (most recent call last)",
      "Input \u001b[1;32mIn [113]\u001b[0m, in \u001b[0;36m<cell line: 1>\u001b[1;34m()\u001b[0m\n\u001b[1;32m----> 1\u001b[0m \u001b[43mx\u001b[49m\u001b[38;5;241;43m+\u001b[39;49m\u001b[43my\u001b[49m\n",
      "\u001b[1;31mValueError\u001b[0m: operands could not be broadcast together with shapes (4,) (5,) "
     ]
    }
   ],
   "source": [
    "x+y"
   ]
  },
  {
   "cell_type": "code",
   "execution_count": 114,
   "id": "7c796d25",
   "metadata": {},
   "outputs": [
    {
     "data": {
      "text/plain": [
       "array([[1., 1., 1., 1., 1.],\n",
       "       [2., 2., 2., 2., 2.],\n",
       "       [3., 3., 3., 3., 3.],\n",
       "       [4., 4., 4., 4., 4.]])"
      ]
     },
     "execution_count": 114,
     "metadata": {},
     "output_type": "execute_result"
    }
   ],
   "source": [
    "xx+y # xx is broadcasting over the cols of y"
   ]
  },
  {
   "cell_type": "code",
   "execution_count": 115,
   "id": "687c994d",
   "metadata": {},
   "outputs": [
    {
     "data": {
      "text/plain": [
       "array([2., 2., 2., 2., 2.])"
      ]
     },
     "execution_count": 115,
     "metadata": {},
     "output_type": "execute_result"
    }
   ],
   "source": [
    "np.array([1])+y # how upper is working"
   ]
  },
  {
   "cell_type": "code",
   "execution_count": 116,
   "id": "a9bf9106",
   "metadata": {},
   "outputs": [
    {
     "data": {
      "text/plain": [
       "array([[1., 2., 3., 4.],\n",
       "       [1., 2., 3., 4.],\n",
       "       [1., 2., 3., 4.]])"
      ]
     },
     "execution_count": 116,
     "metadata": {},
     "output_type": "execute_result"
    }
   ],
   "source": [
    "z+x"
   ]
  },
  {
   "cell_type": "markdown",
   "id": "89c74379",
   "metadata": {},
   "source": [
    "# 2.2. Normalizing Rows and Cols"
   ]
  },
  {
   "cell_type": "code",
   "execution_count": 117,
   "id": "301b5976",
   "metadata": {},
   "outputs": [],
   "source": [
    "x=np.array([\n",
    "    [0,3,4],\n",
    "    [1,6,4]\n",
    "])"
   ]
  },
  {
   "cell_type": "code",
   "execution_count": 118,
   "id": "f8479988",
   "metadata": {},
   "outputs": [
    {
     "name": "stdout",
     "output_type": "stream",
     "text": [
      "[4 6]\n"
     ]
    }
   ],
   "source": [
    "# Normalization\n",
    "x_norm= np.amax(x,axis=1) # get row-wise max\n",
    "print(x_norm)"
   ]
  },
  {
   "cell_type": "code",
   "execution_count": null,
   "id": "7ce4bd38",
   "metadata": {},
   "outputs": [],
   "source": [
    "x/x_norm"
   ]
  },
  {
   "cell_type": "code",
   "execution_count": 120,
   "id": "bd2d46fc",
   "metadata": {},
   "outputs": [],
   "source": [
    "x_norm=x_norm.reshape(2,1)"
   ]
  },
  {
   "cell_type": "code",
   "execution_count": 121,
   "id": "72e7f74e",
   "metadata": {},
   "outputs": [
    {
     "data": {
      "text/plain": [
       "array([[0.        , 0.75      , 1.        ],\n",
       "       [0.16666667, 1.        , 0.66666667]])"
      ]
     },
     "execution_count": 121,
     "metadata": {},
     "output_type": "execute_result"
    }
   ],
   "source": [
    "x/x_norm"
   ]
  },
  {
   "cell_type": "code",
   "execution_count": 122,
   "id": "734f31d7",
   "metadata": {},
   "outputs": [],
   "source": [
    "# Another normalization method\n",
    "x=np.array([\n",
    "    [0,3,4],\n",
    "    [1,6,4]\n",
    "])\n",
    "#no need reshape again\n",
    "x_norm=np.linalg.norm(x,axis=1,keepdims=True)\n"
   ]
  },
  {
   "cell_type": "code",
   "execution_count": 123,
   "id": "2443ec18",
   "metadata": {},
   "outputs": [
    {
     "data": {
      "text/plain": [
       "array([[0.        , 0.6       , 0.8       ],\n",
       "       [0.13736056, 0.82416338, 0.54944226]])"
      ]
     },
     "execution_count": 123,
     "metadata": {},
     "output_type": "execute_result"
    }
   ],
   "source": [
    "x/x_norm"
   ]
  },
  {
   "cell_type": "markdown",
   "id": "beb7dd64",
   "metadata": {},
   "source": [
    "# 2.3. Reshaping Revisited"
   ]
  },
  {
   "cell_type": "code",
   "execution_count": 133,
   "id": "62db0950",
   "metadata": {},
   "outputs": [],
   "source": [
    "i=np.array([\n",
    "    [\n",
    "    [0.1,0.1,0.9],[0.2,0.2,0.9],[0.3,0.3,0.9]\n",
    "    ],\n",
    "    [\n",
    "        [0.1,0.2,0.9],[0.2,0.4,0.9],[0.3,0.4,0.9]\n",
    "    ],\n",
    "    [\n",
    "        [0.1,0.3,0.9],[0.2,0.4,0.9],[0.3,0.5,0.9]\n",
    "    ],\n",
    "    [\n",
    "        [0.1,0.4,0.9],[0.2,0.5,0.9],[0.3,0.6,0.9]\n",
    "    ]\n",
    "])\n"
   ]
  },
  {
   "cell_type": "code",
   "execution_count": 134,
   "id": "87786274",
   "metadata": {},
   "outputs": [
    {
     "data": {
      "text/plain": [
       "(4, 3, 3)"
      ]
     },
     "execution_count": 134,
     "metadata": {},
     "output_type": "execute_result"
    }
   ],
   "source": [
    "i.shape"
   ]
  },
  {
   "cell_type": "code",
   "execution_count": 135,
   "id": "ef44fcf8",
   "metadata": {},
   "outputs": [],
   "source": [
    "import matplotlib.pyplot as plt\n",
    "%matplotlib inline\n",
    "import numpy as np"
   ]
  },
  {
   "cell_type": "code",
   "execution_count": null,
   "id": "8a67bc4d",
   "metadata": {},
   "outputs": [],
   "source": [
    "_=plt.imshow(i)"
   ]
  },
  {
   "cell_type": "code",
   "execution_count": null,
   "id": "67d33008",
   "metadata": {},
   "outputs": [],
   "source": [
    "i.reshape(36) # get a col vector"
   ]
  },
  {
   "cell_type": "code",
   "execution_count": null,
   "id": "7a2c12c7",
   "metadata": {},
   "outputs": [],
   "source": [
    "_=plt.imshow(i)"
   ]
  },
  {
   "cell_type": "code",
   "execution_count": 139,
   "id": "897a3893",
   "metadata": {},
   "outputs": [
    {
     "name": "stdout",
     "output_type": "stream",
     "text": [
      "(4, 3, 3)\n"
     ]
    }
   ],
   "source": [
    "print(i.shape)"
   ]
  },
  {
   "cell_type": "code",
   "execution_count": null,
   "id": "39e553c3",
   "metadata": {},
   "outputs": [],
   "source": [
    "i_sh=i.shape\n",
    "i.reshape(i_sh[0]*i_sh[1]*i_sh[2],1) #knwn as flattening"
   ]
  },
  {
   "cell_type": "markdown",
   "id": "a97cb487",
   "metadata": {},
   "source": [
    "# 2.4. Vectorization"
   ]
  },
  {
   "cell_type": "code",
   "execution_count": 167,
   "id": "d573fff7",
   "metadata": {},
   "outputs": [],
   "source": [
    "dim=200"
   ]
  },
  {
   "cell_type": "code",
   "execution_count": 168,
   "id": "0dd6ff64",
   "metadata": {},
   "outputs": [],
   "source": [
    "A=np.random.rand(dim,dim)\n",
    "B=np.random.rand(dim,dim)"
   ]
  },
  {
   "cell_type": "markdown",
   "id": "918beaa4",
   "metadata": {},
   "source": []
  },
  {
   "cell_type": "code",
   "execution_count": 169,
   "id": "185d2416",
   "metadata": {},
   "outputs": [],
   "source": [
    "def add_array(A,B):\n",
    "    C=np.zeros((A[0].size,A[1].size))\n",
    "    for i in range(A[0].size):\n",
    "        for j in range(A[1].size):\n",
    "            C[i,j]=A[i,j]+B[i,j]\n",
    "            \n",
    "    return C         "
   ]
  },
  {
   "cell_type": "code",
   "execution_count": 170,
   "id": "51b327f3",
   "metadata": {},
   "outputs": [
    {
     "name": "stdout",
     "output_type": "stream",
     "text": [
      "CPU times: total: 31.2 ms\n",
      "Wall time: 29 ms\n"
     ]
    }
   ],
   "source": [
    "%time C=add_array(A,B)"
   ]
  },
  {
   "cell_type": "code",
   "execution_count": 171,
   "id": "b97f2a11",
   "metadata": {},
   "outputs": [
    {
     "name": "stdout",
     "output_type": "stream",
     "text": [
      "CPU times: total: 0 ns\n",
      "Wall time: 0 ns\n"
     ]
    }
   ],
   "source": [
    "%time C=A+B"
   ]
  },
  {
   "cell_type": "code",
   "execution_count": 172,
   "id": "725f2bab",
   "metadata": {},
   "outputs": [],
   "source": [
    "import time\n",
    "#Non-vectorized time\n",
    "start=time.time()\n",
    "C=add_array(A,B)\n",
    "end=time.time()\n",
    "ntime=end-start\n",
    "# Vectrize\n",
    "start=time.time()\n",
    "A+B\n",
    "end=time.time()\n",
    "vtime=end-start"
   ]
  },
  {
   "cell_type": "code",
   "execution_count": 173,
   "id": "8205454d",
   "metadata": {},
   "outputs": [
    {
     "data": {
      "text/plain": [
       "4.173335586682706"
      ]
     },
     "execution_count": 173,
     "metadata": {},
     "output_type": "execute_result"
    }
   ],
   "source": [
    "vtime/ntime*100"
   ]
  },
  {
   "cell_type": "code",
   "execution_count": 3,
   "id": "19cb8bfa",
   "metadata": {},
   "outputs": [],
   "source": [
    "import numpy as np\n",
    "vector_row=np.array([[1,-5,3,2,4]])\n",
    "vector_col=np.array([[1],[2],[3],[4]])"
   ]
  },
  {
   "cell_type": "code",
   "execution_count": 4,
   "id": "f32f735d",
   "metadata": {},
   "outputs": [
    {
     "name": "stdout",
     "output_type": "stream",
     "text": [
      "(1, 5)\n",
      "(4, 1)\n"
     ]
    }
   ],
   "source": [
    "print(vector_row.shape)\n",
    "print(vector_col.shape)\n"
   ]
  },
  {
   "cell_type": "code",
   "execution_count": 5,
   "id": "32a9afc6",
   "metadata": {},
   "outputs": [
    {
     "name": "stdout",
     "output_type": "stream",
     "text": [
      "[[ 1 -5  3  2  4]]\n",
      "[[1]\n",
      " [2]\n",
      " [3]\n",
      " [4]]\n"
     ]
    }
   ],
   "source": [
    "print(vector_row)\n",
    "print(vector_col)"
   ]
  },
  {
   "cell_type": "code",
   "execution_count": 6,
   "id": "782f2f65",
   "metadata": {},
   "outputs": [
    {
     "data": {
      "text/plain": [
       "sys.float_info(max=1.7976931348623157e+308, max_exp=1024, max_10_exp=308, min=2.2250738585072014e-308, min_exp=-1021, min_10_exp=-307, dig=15, mant_dig=53, epsilon=2.220446049250313e-16, radix=2, rounds=1)"
      ]
     },
     "execution_count": 6,
     "metadata": {},
     "output_type": "execute_result"
    }
   ],
   "source": [
    "import sys\n",
    "sys.float_info"
   ]
  },
  {
   "cell_type": "code",
   "execution_count": 7,
   "id": "d4a7c876",
   "metadata": {},
   "outputs": [
    {
     "data": {
      "text/plain": [
       "1.4901161193847656e-08"
      ]
     },
     "execution_count": 7,
     "metadata": {},
     "output_type": "execute_result"
    }
   ],
   "source": [
    "#spacing tells next largest no\n",
    "np.spacing(100_000_000)"
   ]
  },
  {
   "cell_type": "code",
   "execution_count": 8,
   "id": "c9a06022",
   "metadata": {},
   "outputs": [
    {
     "data": {
      "text/plain": [
       "1.4210854715202004e-14"
      ]
     },
     "execution_count": 8,
     "metadata": {},
     "output_type": "execute_result"
    }
   ],
   "source": [
    "np.spacing(100.2)"
   ]
  },
  {
   "cell_type": "code",
   "execution_count": 9,
   "id": "304440c8",
   "metadata": {},
   "outputs": [
    {
     "name": "stdout",
     "output_type": "stream",
     "text": [
      "1.8189894035458565e-12\n",
      "1.3552527156068805e-20\n"
     ]
    }
   ],
   "source": [
    "print(np.spacing(1e4))\n",
    "print(np.spacing(1e-4))"
   ]
  },
  {
   "cell_type": "code",
   "execution_count": 14,
   "id": "7e76de3f",
   "metadata": {},
   "outputs": [
    {
     "name": "stdout",
     "output_type": "stream",
     "text": [
      "1000000000.0\n",
      "1.1920928955078125e-07\n",
      "1000000000.0000001\n",
      "Next is same False\n",
      "1000000000.0\n",
      "Closer is same:  True\n"
     ]
    }
   ],
   "source": [
    "num=1e9\n",
    "#num = 100.0\n",
    "spacing=np.spacing(num)\n",
    "print(num)\n",
    "print(spacing)\n",
    "\n",
    "next_num=num+spacing\n",
    "print(next_num)\n",
    "print(\"Next is same\",num==next_num)\n",
    "\n",
    "num_closer=num+(spacing/2) #bcoz it bits same so it say True\n",
    "print(num_closer)\n",
    "print('Closer is same: ',num==num_closer)\n"
   ]
  },
  {
   "cell_type": "code",
   "execution_count": 12,
   "id": "b92165d3",
   "metadata": {},
   "outputs": [
    {
     "data": {
      "text/plain": [
       "1.7976931348623157e+308"
      ]
     },
     "execution_count": 12,
     "metadata": {},
     "output_type": "execute_result"
    }
   ],
   "source": [
    "sys.float_info.max"
   ]
  },
  {
   "cell_type": "code",
   "execution_count": 13,
   "id": "f850fa0d",
   "metadata": {},
   "outputs": [
    {
     "data": {
      "text/plain": [
       "2.2250738585072014e-308"
      ]
     },
     "execution_count": 13,
     "metadata": {},
     "output_type": "execute_result"
    }
   ],
   "source": [
    "sys.float_info.min"
   ]
  },
  {
   "cell_type": "code",
   "execution_count": null,
   "id": "f23575bb",
   "metadata": {},
   "outputs": [],
   "source": [
    "!pip install h5py"
   ]
  },
  {
   "cell_type": "code",
   "execution_count": null,
   "id": "018716af",
   "metadata": {},
   "outputs": [],
   "source": [
    "#conda install pytables ----------run if format error occurring"
   ]
  },
  {
   "cell_type": "code",
   "execution_count": 4,
   "id": "b605149d",
   "metadata": {},
   "outputs": [
    {
     "name": "stderr",
     "output_type": "stream",
     "text": [
      "ERROR: Could not find a version that satisfies the requirement pytables (from versions: none)\n",
      "ERROR: No matching distribution found for pytables\n"
     ]
    }
   ],
   "source": []
  },
  {
   "cell_type": "markdown",
   "id": "e74a190b",
   "metadata": {},
   "source": [
    "# 1.Issues of scale\n",
    "<br>**1.1. HDF5 -The Why and How**<br>The issue is handling very large data set which is not fit in memory<br>\n",
    "<br>\n",
    "For instance, you may have a dataset that is 85GB large but you only have 32GB main memory. You can let your OS handle the memory but that us going to be too inefficient as OS has no 'understanding' of the data. Instead, we use a library that can do loading of data in an intelligent manner. HDF5 here for that. The python interface to this called h5py <br>\n",
    "Memory exception"
   ]
  },
  {
   "cell_type": "code",
   "execution_count": 6,
   "id": "d0a632dc",
   "metadata": {},
   "outputs": [],
   "source": [
    "import numpy as np\n",
    "import pandas as pd\n",
    "\n",
    "#hdf5 file name\n",
    "filename='E:DS/Datasets/test.h5'"
   ]
  },
  {
   "cell_type": "code",
   "execution_count": 7,
   "id": "8c508930",
   "metadata": {},
   "outputs": [
    {
     "name": "stdout",
     "output_type": "stream",
     "text": [
      "   A  B\n",
      "0  0  1\n",
      "1  2  3\n",
      "2  4  5\n",
      "3  6  7\n",
      "4  8  9\n"
     ]
    }
   ],
   "source": [
    "df=pd.DataFrame(np.arange(10).reshape((5,2)),columns=['A','B'])\n",
    "print(df)"
   ]
  },
  {
   "cell_type": "code",
   "execution_count": 22,
   "id": "5fc8fb73",
   "metadata": {
    "scrolled": true
   },
   "outputs": [],
   "source": [
    "#save to HDF5\n",
    "df.to_hdf(filename,'data',mode='w',format='table')\n",
    "del df "
   ]
  },
  {
   "cell_type": "code",
   "execution_count": 24,
   "id": "20fe0ab8",
   "metadata": {},
   "outputs": [],
   "source": [
    "#!python -m pip uninstall tables --yes\n",
    "#!pip install tables\n",
    "#Missing optional dependency 'pytables' error solution"
   ]
  },
  {
   "cell_type": "code",
   "execution_count": 25,
   "id": "6829bc9c",
   "metadata": {},
   "outputs": [],
   "source": [
    "df2=pd.DataFrame(np.arange(10).reshape((5,2))*10,columns=['A','B'])\n",
    "df2.to_hdf(filename,'data',append=True)\n",
    "del df2"
   ]
  },
  {
   "cell_type": "code",
   "execution_count": 26,
   "id": "b5f59b7d",
   "metadata": {},
   "outputs": [
    {
     "name": "stdout",
     "output_type": "stream",
     "text": [
      "    A   B\n",
      "0   0   1\n",
      "1   2   3\n",
      "2   4   5\n",
      "3   6   7\n",
      "4   8   9\n",
      "0   0  10\n",
      "1  20  30\n",
      "2  40  50\n",
      "3  60  70\n",
      "4  80  90\n"
     ]
    }
   ],
   "source": [
    "print(pd.read_hdf(filename,'data'))"
   ]
  },
  {
   "cell_type": "markdown",
   "id": "b0296981",
   "metadata": {},
   "source": [
    "# Linear Algebra Basics"
   ]
  },
  {
   "cell_type": "code",
   "execution_count": 27,
   "id": "c8399172",
   "metadata": {},
   "outputs": [],
   "source": [
    "import numpy as np\n",
    "from numpy.linalg import norm"
   ]
  },
  {
   "cell_type": "code",
   "execution_count": 29,
   "id": "430d881f",
   "metadata": {},
   "outputs": [
    {
     "name": "stdout",
     "output_type": "stream",
     "text": [
      "[[ 1 -5  3  2  4]]\n",
      "[[ 1]\n",
      " [-5]\n",
      " [ 3]\n",
      " [ 2]\n",
      " [ 4]]\n",
      "L_1 is:15.0\n",
      "L_2 is:7.4\n"
     ]
    }
   ],
   "source": [
    "vector_row=np.array([[1,-5,3,2,4]])\n",
    "print(vector_row)\n",
    "new_vector=vector_row.T\n",
    "print(new_vector)\n",
    "\n",
    "norm_1=norm(new_vector,1)\n",
    "norm_2=norm(new_vector,2)\n",
    "norm_inf=norm(new_vector,np.inf)\n",
    "\n",
    "print('L_1 is:%.1f'%norm_1)\n",
    "print('L_2 is:%.1f'%norm_2)\n"
   ]
  },
  {
   "cell_type": "markdown",
   "id": "43ad0cb3",
   "metadata": {},
   "source": [
    "# LU Decomposition\n",
    "<br>$ Ax=y$<br>\n",
    "$A=L.U$<br>\n",
    "$LUx=y$<br>\n",
    "$m=Ux$<br>\n",
    "$mL=y$"
   ]
  },
  {
   "cell_type": "code",
   "execution_count": 30,
   "id": "4717faa2",
   "metadata": {},
   "outputs": [],
   "source": [
    "import numpy as np\n",
    "from numpy.linalg import inv\n",
    "\n",
    "import scipy\n",
    "from scipy.linalg import lu"
   ]
  },
  {
   "cell_type": "code",
   "execution_count": null,
   "id": "c52dc65a",
   "metadata": {},
   "outputs": [],
   "source": [
    "help(lu)"
   ]
  },
  {
   "cell_type": "code",
   "execution_count": 32,
   "id": "f2b568b8",
   "metadata": {},
   "outputs": [],
   "source": [
    "A= np.array([\n",
    "    [1,1,1,1],\n",
    "    [2,3,1,5],\n",
    "    [-1,1,-5,3],\n",
    "    [3,1,7,-2]\n",
    "],dtype=float)"
   ]
  },
  {
   "cell_type": "code",
   "execution_count": null,
   "id": "b28c92d7",
   "metadata": {},
   "outputs": [],
   "source": [
    "P,L,U=lu(A)\n",
    "print('A:\\n',A)\n",
    "print('P:\\n',P)\n",
    "print('U:\\n',U)\n",
    "print('L:\\n',L)\n"
   ]
  },
  {
   "cell_type": "code",
   "execution_count": 35,
   "id": "873e49ad",
   "metadata": {},
   "outputs": [],
   "source": [
    "L=P.dot(L)"
   ]
  },
  {
   "cell_type": "code",
   "execution_count": null,
   "id": "86b28b5c",
   "metadata": {},
   "outputs": [],
   "source": [
    "L.dot(U)"
   ]
  },
  {
   "cell_type": "code",
   "execution_count": null,
   "id": "a23bf1a5",
   "metadata": {},
   "outputs": [],
   "source": [
    "A"
   ]
  },
  {
   "cell_type": "code",
   "execution_count": null,
   "id": "0f713849",
   "metadata": {},
   "outputs": [],
   "source": [
    "L.dot(U)==A # it doesnt show true all coz float or real number uncomparable after mult or div in computer recall precision"
   ]
  },
  {
   "cell_type": "code",
   "execution_count": 39,
   "id": "55332750",
   "metadata": {},
   "outputs": [
    {
     "data": {
      "text/plain": [
       "True"
      ]
     },
     "execution_count": 39,
     "metadata": {},
     "output_type": "execute_result"
    }
   ],
   "source": [
    "np.allclose(L.dot(U),A)"
   ]
  },
  {
   "cell_type": "code",
   "execution_count": null,
   "id": "187b5855",
   "metadata": {},
   "outputs": [],
   "source": [
    "y= np.array([10,31,-2,18])\n",
    "print(y)"
   ]
  },
  {
   "cell_type": "code",
   "execution_count": null,
   "id": "c0e03488",
   "metadata": {},
   "outputs": [],
   "source": [
    "m=inv(L).dot(y)\n",
    "#Lm=y\n",
    "print(m)"
   ]
  },
  {
   "cell_type": "code",
   "execution_count": 43,
   "id": "6dd43a6c",
   "metadata": {},
   "outputs": [
    {
     "name": "stdout",
     "output_type": "stream",
     "text": [
      "[1. 2. 3. 4.]\n"
     ]
    }
   ],
   "source": [
    "x=inv(U).dot(m)\n",
    "print(x)"
   ]
  },
  {
   "cell_type": "code",
   "execution_count": 44,
   "id": "6f335dcc",
   "metadata": {},
   "outputs": [
    {
     "name": "stdout",
     "output_type": "stream",
     "text": [
      "[10. 31. -2. 18.]\n"
     ]
    },
    {
     "data": {
      "text/plain": [
       "True"
      ]
     },
     "execution_count": 44,
     "metadata": {},
     "output_type": "execute_result"
    }
   ],
   "source": [
    "yp=A.dot(x)\n",
    "print(yp)\n",
    "np.allclose(y,yp)"
   ]
  },
  {
   "cell_type": "markdown",
   "id": "f4505f4f",
   "metadata": {},
   "source": [
    "# Guass -Siedal Method\n",
    "<br>will applicable if the diagonal sum is greater than off-diagonal sum"
   ]
  },
  {
   "cell_type": "markdown",
   "id": "485a0563",
   "metadata": {},
   "source": [
    "$ 8x_1 + 3x_2 - 3x_3 = 14$ <br>\n",
    "$ -2x_1 - 8x_2 + 5x_3 = 5$ <br>\n",
    "$ 3x_1 + 5x_2 + 10x_3 = 14$ <br>"
   ]
  },
  {
   "cell_type": "code",
   "execution_count": 47,
   "id": "e30c0437",
   "metadata": {},
   "outputs": [
    {
     "name": "stdout",
     "output_type": "stream",
     "text": [
      "[[ 8  3  3]\n",
      " [ 2  8  5]\n",
      " [ 3  5 10]]\n",
      "[ 8  8 10]\n"
     ]
    }
   ],
   "source": [
    "a=[\n",
    "    [8,3,-3],\n",
    "    [-2,-8,5],\n",
    "    [3,5,10],\n",
    "]\n",
    "# find diagonal co-effiecient\n",
    "print(np.abs(a))\n",
    "diag=np.diag(np.abs(a))\n",
    "print(diag)"
   ]
  },
  {
   "cell_type": "code",
   "execution_count": 48,
   "id": "968c23f6",
   "metadata": {},
   "outputs": [
    {
     "data": {
      "text/plain": [
       "array([14, 15, 18])"
      ]
     },
     "execution_count": 48,
     "metadata": {},
     "output_type": "execute_result"
    }
   ],
   "source": [
    "np.sum(np.abs(a),axis=1)"
   ]
  },
  {
   "cell_type": "code",
   "execution_count": 51,
   "id": "a00e5e8a",
   "metadata": {},
   "outputs": [
    {
     "name": "stdout",
     "output_type": "stream",
     "text": [
      "[6 7 8]\n"
     ]
    }
   ],
   "source": [
    "#find row sum without diagonal\n",
    "off_diag=np.sum(np.abs(a),axis=1)-diag\n",
    "print(off_diag)"
   ]
  },
  {
   "cell_type": "code",
   "execution_count": 52,
   "id": "3f1d10ef",
   "metadata": {},
   "outputs": [
    {
     "name": "stdout",
     "output_type": "stream",
     "text": [
      "Diagonaly Dominant\n"
     ]
    }
   ],
   "source": [
    "if np.all(diag>off_diag):\n",
    "    print(\"Diagonaly Dominant\")\n",
    "else:\n",
    "    print(\"NOT Diagonaly Dominant\")"
   ]
  },
  {
   "cell_type": "code",
   "execution_count": 53,
   "id": "a372a49b",
   "metadata": {},
   "outputs": [],
   "source": [
    "#assume\n",
    "x1=0\n",
    "x2=0\n",
    "x3=0\n",
    "epsilon=0.000001\n",
    "converged=False"
   ]
  },
  {
   "cell_type": "code",
   "execution_count": 54,
   "id": "3b6b07bd",
   "metadata": {},
   "outputs": [],
   "source": [
    "x_old=np.array([x1,x2,x3])"
   ]
  },
  {
   "cell_type": "code",
   "execution_count": 55,
   "id": "df2c8b19",
   "metadata": {},
   "outputs": [],
   "source": [
    "max_iteration=50"
   ]
  },
  {
   "cell_type": "markdown",
   "id": "fd87e55b",
   "metadata": {},
   "source": [
    "$ 8x_1 + 3x_2 - 3x_3 = 14$ <br>\n",
    "$ -2x_1 - 8x_2 + 5x_3 = 5$ <br>\n",
    "$ 3x_1 + 5x_2 + 10x_3 = 14$ <br>\n",
    "as:<br>\n",
    "$ x_1  = (14 - 3x_2 + 3x_3) / 8$ <br>\n",
    "$ x_2 = (5 - 5x_3 + 2x_1) / (-8) $ <br>\n",
    "$x_3 = (14 - 3x_1 - 5x_2) / 10$ <br>"
   ]
  },
  {
   "cell_type": "code",
   "execution_count": 59,
   "id": "fb579387",
   "metadata": {},
   "outputs": [
    {
     "name": "stdout",
     "output_type": "stream",
     "text": [
      "Iteration\n",
      "k\tx1\tx2\tx3\n",
      " 1\t2.0888924\t-1.5533581\t-0.6499887\n",
      "Converged\n"
     ]
    }
   ],
   "source": [
    "print('Iteration')\n",
    "print('k\\tx1\\tx2\\tx3')\n",
    "\n",
    "for k in range(1,max_iteration):\n",
    "    x1=(14 - 3*x2 + 3*x3)/8\n",
    "    x2=(5 + 2*x1 - 5*x3)/(-8)\n",
    "    x3=(-8 - 3*x1 -5*x2)/10\n",
    "    \n",
    "    x=np.array([x1,x2,x3])\n",
    "    \n",
    "    print('%2d\\t%.7f\\t%.7f\\t%.7f'% (k,x1,x2,x3))\n",
    "    # l2 norm \n",
    "    dx=np.sqrt(np.dot(x-x_old,x-x_old))\n",
    "    if dx < epsilon:\n",
    "        converged=True\n",
    "        print('Converged')\n",
    "        break\n",
    "    x_old=x\n",
    "if not converged:\n",
    "    print('Not Converged incearse #of interations')\n",
    "    "
   ]
  },
  {
   "cell_type": "code",
   "execution_count": 60,
   "id": "ec4de6cf",
   "metadata": {},
   "outputs": [
    {
     "data": {
      "text/plain": [
       "14.001030550674225"
      ]
     },
     "execution_count": 60,
     "metadata": {},
     "output_type": "execute_result"
    }
   ],
   "source": [
    "8*x1 + 3*x2 -3*x3"
   ]
  },
  {
   "cell_type": "markdown",
   "id": "2eb16d4e",
   "metadata": {},
   "source": [
    "# 1.Root Finding"
   ]
  },
  {
   "cell_type": "markdown",
   "id": "6cbd07d9",
   "metadata": {},
   "source": [
    "**1.1 Bisection Method**"
   ]
  },
  {
   "cell_type": "code",
   "execution_count": 7,
   "id": "a6b32de2",
   "metadata": {},
   "outputs": [],
   "source": [
    "def f(x):\n",
    "    return x**2 - 36"
   ]
  },
  {
   "cell_type": "code",
   "execution_count": 75,
   "id": "ce000d9b",
   "metadata": {},
   "outputs": [],
   "source": [
    "def bisect(a,b):\n",
    "    p=(a+b)/2\n",
    "    return p"
   ]
  },
  {
   "cell_type": "code",
   "execution_count": 96,
   "id": "a2d09035",
   "metadata": {},
   "outputs": [
    {
     "name": "stdout",
     "output_type": "stream",
     "text": [
      "64.0\n"
     ]
    }
   ],
   "source": [
    "print(f(10.0))"
   ]
  },
  {
   "cell_type": "code",
   "execution_count": 127,
   "id": "b7519555",
   "metadata": {},
   "outputs": [],
   "source": [
    "a=1\n",
    "b=10"
   ]
  },
  {
   "cell_type": "code",
   "execution_count": 128,
   "id": "96e193ab",
   "metadata": {},
   "outputs": [
    {
     "data": {
      "text/plain": [
       "(-35, 64)"
      ]
     },
     "execution_count": 128,
     "metadata": {},
     "output_type": "execute_result"
    }
   ],
   "source": [
    "fa=f(a)\n",
    "fb=f(b)\n",
    "fa,fb\n",
    "#check first is values of both function from -ve to +ve "
   ]
  },
  {
   "cell_type": "code",
   "execution_count": 129,
   "id": "a4bc332a",
   "metadata": {},
   "outputs": [],
   "source": [
    "def find_c(a,b):\n",
    "    a,b =a,b\n",
    "    p=bisect(a,b)\n",
    "    fa,fb,fp=f(a),f(b),f(p)\n",
    "    \n",
    "    print('a:',a,'p:',p,'b:',b)\n",
    "    print('fa:',fa,'fp:',fp,'fb:',fb)\n",
    "    print('========================')\n",
    "    if f(p)==0:\n",
    "        return a,b,p\n",
    "    elif fa and fp < 0:\n",
    "        return p,b,p\n",
    "    else:\n",
    "        return a,p,p"
   ]
  },
  {
   "cell_type": "code",
   "execution_count": null,
   "id": "83f12aa2",
   "metadata": {},
   "outputs": [],
   "source": [
    "for i in range(10,100):\n",
    "    print(\"Iteraion no:\",i-9)\n",
    "    a,b,p=find_c(a,b)\n",
    "    if round(f(p),4)==0.0000:\n",
    "        break\n",
    "print(p)        \n",
    "        "
   ]
  },
  {
   "cell_type": "markdown",
   "id": "6df781dd",
   "metadata": {},
   "source": [
    "# 1.2 Newton's Method <br>\n",
    "$ P_i= P_{i-1} - \\frac{f(P_{i-1})}{dx(f(P_{i-1}))}\\$"
   ]
  },
  {
   "cell_type": "code",
   "execution_count": null,
   "id": "4d86874a",
   "metadata": {},
   "outputs": [],
   "source": [
    "#!pip install sympy # use for derivates"
   ]
  },
  {
   "cell_type": "markdown",
   "id": "e4538b49",
   "metadata": {},
   "source": [
    "source:https://towardsdatascience.com/taking-derivatives-in-python-d6229ba72c64"
   ]
  },
  {
   "cell_type": "code",
   "execution_count": 140,
   "id": "f3099416",
   "metadata": {},
   "outputs": [],
   "source": [
    "import sympy as sym"
   ]
  },
  {
   "cell_type": "code",
   "execution_count": 166,
   "id": "22ab0091",
   "metadata": {},
   "outputs": [
    {
     "data": {
      "text/latex": [
       "$\\displaystyle 2 x$"
      ],
      "text/plain": [
       "2*x"
      ]
     },
     "execution_count": 166,
     "metadata": {},
     "output_type": "execute_result"
    }
   ],
   "source": [
    "fx=x**2-36\n",
    "x=sym.Symbol('x')\n",
    "fp=sym.diff(fx)\n",
    "fp"
   ]
  },
  {
   "cell_type": "code",
   "execution_count": 173,
   "id": "d24f6ea4",
   "metadata": {},
   "outputs": [],
   "source": [
    "def f(x):\n",
    "    return x**2 - 36"
   ]
  },
  {
   "cell_type": "code",
   "execution_count": 174,
   "id": "00c4e34c",
   "metadata": {},
   "outputs": [],
   "source": [
    "def fp(x):\n",
    "    return 2*x"
   ]
  },
  {
   "cell_type": "code",
   "execution_count": 175,
   "id": "77af9176",
   "metadata": {},
   "outputs": [],
   "source": [
    "def new_val(x):\n",
    "    return x - ( f(x) / fp(x) )"
   ]
  },
  {
   "cell_type": "code",
   "execution_count": 210,
   "id": "d42becda",
   "metadata": {},
   "outputs": [],
   "source": [
    "def get_c(x):\n",
    "    print('x:',x)\n",
    "    if round(f(x),10) == 0.0000000000:\n",
    "        return x\n",
    "    x=new_val(x)\n",
    "    return get_c(x)"
   ]
  },
  {
   "cell_type": "code",
   "execution_count": 211,
   "id": "9def0c31",
   "metadata": {},
   "outputs": [
    {
     "name": "stdout",
     "output_type": "stream",
     "text": [
      "x: 2\n",
      "x: 10.0\n",
      "x: 6.8\n",
      "x: 6.047058823529412\n",
      "x: 6.00018310826276\n",
      "x: 6.000000002793968\n",
      "x: 6.0\n"
     ]
    },
    {
     "data": {
      "text/plain": [
       "6.0"
      ]
     },
     "execution_count": 211,
     "metadata": {},
     "output_type": "execute_result"
    }
   ],
   "source": [
    "x=2\n",
    "x=get_c(x)\n",
    "x"
   ]
  },
  {
   "cell_type": "markdown",
   "id": "d8af074b",
   "metadata": {},
   "source": [
    "# Interpolation \n",
    "**Predict value b/w data points which r given**"
   ]
  },
  {
   "cell_type": "code",
   "execution_count": 223,
   "id": "0de9c375",
   "metadata": {},
   "outputs": [],
   "source": [
    "from scipy.interpolate import interp1d\n",
    "import matplotlib.pyplot as plt\n",
    "%matplotlib inline"
   ]
  },
  {
   "cell_type": "code",
   "execution_count": 224,
   "id": "311b5152",
   "metadata": {},
   "outputs": [],
   "source": [
    "x=[0,1,2]\n",
    "y=[1,3,2]"
   ]
  },
  {
   "cell_type": "code",
   "execution_count": 225,
   "id": "c04f43c0",
   "metadata": {},
   "outputs": [
    {
     "data": {
      "image/png": "[encoded data removed]",
      "text/plain": [
       "<Figure size 720x576 with 1 Axes>"
      ]
     },
     "metadata": {
      "needs_background": "light"
     },
     "output_type": "display_data"
    }
   ],
   "source": [
    "plt.figure(figsize=(10,8))\n",
    "plt.plot(x,y,'o',markersize=12)\n",
    "plt.xlabel('X')\n",
    "plt.ylabel('Y')\n",
    "plt.grid()\n",
    "plt.title('Data Points')\n",
    "plt.show()"
   ]
  },
  {
   "cell_type": "code",
   "execution_count": 231,
   "id": "a0b173ec",
   "metadata": {},
   "outputs": [
    {
     "name": "stdout",
     "output_type": "stream",
     "text": [
      "2.5\n"
     ]
    }
   ],
   "source": [
    "f=interp1d(x,y) # it is returning a function y=f(x)\n",
    "y_hat=f(1.5)\n",
    "print(y_hat)"
   ]
  },
  {
   "cell_type": "code",
   "execution_count": 236,
   "id": "7892788e",
   "metadata": {},
   "outputs": [
    {
     "data": {
      "image/png": "[encoded data removed]",
      "text/plain": [
       "<Figure size 720x576 with 1 Axes>"
      ]
     },
     "metadata": {
      "needs_background": "light"
     },
     "output_type": "display_data"
    }
   ],
   "source": [
    "plt.figure(figsize=(10,8))\n",
    "plt.plot(1.5,y_hat,'o',markersize=12)\n",
    "plt.plot(x,y,'-o')\n",
    "plt.xlabel('X')\n",
    "plt.ylabel('Y')\n",
    "plt.grid()\n",
    "plt.title('Data Points')\n",
    "plt.show()"
   ]
  },
  {
   "cell_type": "code",
   "execution_count": 237,
   "id": "f93c5eab",
   "metadata": {},
   "outputs": [],
   "source": [
    "from scipy.interpolate import CubicSpline\n",
    "import numpy as np"
   ]
  },
  {
   "cell_type": "code",
   "execution_count": 243,
   "id": "63d1f634",
   "metadata": {},
   "outputs": [],
   "source": [
    "x=[0,1,2]\n",
    "y=[1,3,2]\n",
    "# bc_type = natural add the constraint \n",
    "f=CubicSpline(x,y,bc_type='natural')\n",
    "x_new=np.linspace(0,2,100)\n",
    "y_new=f(x_new)\n"
   ]
  },
  {
   "cell_type": "code",
   "execution_count": 244,
   "id": "ec9fe950",
   "metadata": {},
   "outputs": [
    {
     "data": {
      "image/png": "[encoded data removed]",
      "text/plain": [
       "<Figure size 720x576 with 1 Axes>"
      ]
     },
     "metadata": {
      "needs_background": "light"
     },
     "output_type": "display_data"
    }
   ],
   "source": [
    "plt.figure(figsize=(10,8))\n",
    "plt.plot(x,y,'o',markersize=12)\n",
    "plt.plot(x_new,y_new)\n",
    "plt.xlabel('X')\n",
    "plt.ylabel('Y')\n",
    "plt.grid()\n",
    "plt.title('Data Points')\n",
    "plt.show()"
   ]
  },
  {
   "cell_type": "code",
   "execution_count": 245,
   "id": "6109cf95",
   "metadata": {},
   "outputs": [
    {
     "name": "stdout",
     "output_type": "stream",
     "text": [
      "2.78125\n"
     ]
    }
   ],
   "source": [
    "print(f(1.5))"
   ]
  },
  {
   "cell_type": "code",
   "execution_count": 248,
   "id": "600d42df",
   "metadata": {},
   "outputs": [],
   "source": [
    "x=[0,1,2]\n",
    "y=[1,3,2]\n",
    "# bc_type = natural add the constraint \n",
    "f2=CubicSpline(x,y)\n",
    "x2_new=np.linspace(0,2,100)\n",
    "y2_new=f2(x2_new)"
   ]
  },
  {
   "cell_type": "code",
   "execution_count": 263,
   "id": "1b3e2451",
   "metadata": {},
   "outputs": [
    {
     "data": {
      "image/png": "[encoded data removed]",
      "text/plain": [
       "<Figure size 720x576 with 1 Axes>"
      ]
     },
     "metadata": {
      "needs_background": "light"
     },
     "output_type": "display_data"
    }
   ],
   "source": [
    "plt.figure(figsize=(10,8))\n",
    "plt.plot(x,y,'o',markersize=12)\n",
    "\n",
    "plt.plot(x_new,y_new,'--',color='red',label='Natural')\n",
    "plt.plot(1.5,f(1.5),'o',markersize=12)\n",
    "plt.plot(x2_new,y2_new,'x',color='black',label='Not-a-Knot')\n",
    "plt.plot(1.5,f2(1.5),'o',markersize=12)\n",
    "plt.plot(x,y,color='blue',label='Interp1d')\n",
    "plt.plot(1.5,y_hat,'o',color='green',markersize=10)\n",
    "plt.xlabel('X')\n",
    "plt.ylabel('Y')\n",
    "plt.grid()\n",
    "plt.legend()\n",
    "plt.title('Data Points')\n",
    "plt.show()"
   ]
  },
  {
   "cell_type": "code",
   "execution_count": null,
   "id": "8b24845a",
   "metadata": {},
   "outputs": [],
   "source": [
    "help(plt.plot)"
   ]
  },
  {
   "cell_type": "markdown",
   "id": "dc1a0b83",
   "metadata": {},
   "source": [
    "# Curve Fitting"
   ]
  },
  {
   "cell_type": "code",
   "execution_count": 9,
   "id": "6dd145cc",
   "metadata": {},
   "outputs": [],
   "source": [
    "from pandas import read_csv\n",
    "import numpy as np\n",
    "import matplotlib.pyplot as plt\n",
    "%matplotlib inline"
   ]
  },
  {
   "cell_type": "code",
   "execution_count": 10,
   "id": "5ff58189",
   "metadata": {},
   "outputs": [],
   "source": [
    "df=read_csv('E:/DS/Datasets/longley.csv')\n",
    "df.drop([0,0], axis=0, inplace=True)\n",
    "data=df.values"
   ]
  },
  {
   "cell_type": "code",
   "execution_count": null,
   "id": "9177da10",
   "metadata": {},
   "outputs": [],
   "source": [
    "print(data)"
   ]
  },
  {
   "cell_type": "code",
   "execution_count": 16,
   "id": "ace9c5af",
   "metadata": {},
   "outputs": [
    {
     "data": {
      "text/plain": [
       "(array([108.632, 109.773, 110.929, 112.075, 113.27 , 115.094, 116.219,\n",
       "        117.388, 118.734, 120.445, 121.95 , 123.366, 125.368, 127.852,\n",
       "        130.081]),\n",
       " array([61.122, 60.171, 61.187, 63.221, 63.639, 64.989, 63.761, 66.019,\n",
       "        67.857, 68.169, 66.513, 68.655, 69.564, 69.331, 70.551]))"
      ]
     },
     "execution_count": 16,
     "metadata": {},
     "output_type": "execute_result"
    }
   ],
   "source": [
    "x,y=data[:,5],data[:,-1]\n",
    "x,y"
   ]
  },
  {
   "cell_type": "code",
   "execution_count": 17,
   "id": "ef015983",
   "metadata": {},
   "outputs": [
    {
     "data": {
      "image/png": "[encoded data removed]",
      "text/plain": [
       "<Figure size 576x432 with 1 Axes>"
      ]
     },
     "metadata": {
      "needs_background": "light"
     },
     "output_type": "display_data"
    }
   ],
   "source": [
    "plt.figure(figsize=(8,6))\n",
    "plt.scatter(x,y)\n",
    "plt.show()"
   ]
  },
  {
   "cell_type": "code",
   "execution_count": 37,
   "id": "1852f4cc",
   "metadata": {},
   "outputs": [],
   "source": [
    "def objective_1(x,a,b):\n",
    "    return a*x+b"
   ]
  },
  {
   "cell_type": "code",
   "execution_count": 38,
   "id": "f4a2bead",
   "metadata": {},
   "outputs": [],
   "source": [
    "from scipy.optimize import curve_fit"
   ]
  },
  {
   "cell_type": "code",
   "execution_count": 39,
   "id": "d7b7902d",
   "metadata": {},
   "outputs": [],
   "source": [
    "popt,_=curve_fit(objective_1,x,y)"
   ]
  },
  {
   "cell_type": "code",
   "execution_count": 40,
   "id": "e7a75b5f",
   "metadata": {},
   "outputs": [],
   "source": [
    "a,b=popt"
   ]
  },
  {
   "cell_type": "code",
   "execution_count": 41,
   "id": "508a081a",
   "metadata": {},
   "outputs": [
    {
     "data": {
      "image/png": "[encoded data removed]",
      "text/plain": [
       "<Figure size 576x432 with 1 Axes>"
      ]
     },
     "metadata": {
      "needs_background": "light"
     },
     "output_type": "display_data"
    }
   ],
   "source": [
    "plt.figure(figsize=(8,6))\n",
    "plt.scatter(x,y)\n",
    "x_line=np.arange(min(x),max(x),0.1)\n",
    "y_1=objective_1(x_line,a,b)\n",
    "plt.plot(x_line,y_1,'--')\n",
    "plt.show()"
   ]
  },
  {
   "cell_type": "code",
   "execution_count": 24,
   "id": "742c8882",
   "metadata": {},
   "outputs": [],
   "source": [
    "def objective_2(x,a,b,c):\n",
    "    return a*x+b*x**2+c"
   ]
  },
  {
   "cell_type": "code",
   "execution_count": 35,
   "id": "be89977a",
   "metadata": {},
   "outputs": [
    {
     "data": {
      "image/png": "[encoded data removed]",
      "text/plain": [
       "<Figure size 576x432 with 1 Axes>"
      ]
     },
     "metadata": {
      "needs_background": "light"
     },
     "output_type": "display_data"
    }
   ],
   "source": [
    "popt,_=curve_fit(objective_2,x,y)\n",
    "a,b,c=popt\n",
    "plt.figure(figsize=(8,6))\n",
    "plt.scatter(x,y)\n",
    "x_line=np.arange(min(x),max(x),0.1)\n",
    "y_2=objective_2(x_line,a,b,c)\n",
    "plt.plot(x_line,y_2,'--')\n",
    "plt.show()"
   ]
  },
  {
   "cell_type": "code",
   "execution_count": 29,
   "id": "378b0aba",
   "metadata": {},
   "outputs": [],
   "source": [
    "def objective_5(x,a,b,c,d,e,f):\n",
    "    return a*x+b* x**2+c* x**3 + d* x**4 + e* x**5 + f"
   ]
  },
  {
   "cell_type": "code",
   "execution_count": 42,
   "id": "5cf00f6d",
   "metadata": {},
   "outputs": [
    {
     "data": {
      "image/png": "[encoded data removed]",
      "text/plain": [
       "<Figure size 576x432 with 1 Axes>"
      ]
     },
     "metadata": {
      "needs_background": "light"
     },
     "output_type": "display_data"
    }
   ],
   "source": [
    "popt,_=curve_fit(objective_5,x,y)\n",
    "a,b,c,d,e,f=popt\n",
    "plt.figure(figsize=(8,6))\n",
    "plt.scatter(x,y)\n",
    "x_line=np.arange(min(x),max(x),0.1)\n",
    "y_5=objective_5(x_line,a,b,c,d,e,f)\n",
    "plt.plot(x_line,y_5,'--')\n",
    "plt.show()"
   ]
  },
  {
   "cell_type": "code",
   "execution_count": 31,
   "id": "c2d8b6a7",
   "metadata": {},
   "outputs": [],
   "source": [
    "from numpy import sin"
   ]
  },
  {
   "cell_type": "code",
   "execution_count": 33,
   "id": "25318a7e",
   "metadata": {},
   "outputs": [],
   "source": [
    "def objective_sin(x,a,b,c,d):\n",
    "    return a*sin(b-x)+c* x**3+d"
   ]
  },
  {
   "cell_type": "code",
   "execution_count": 43,
   "id": "e81085c7",
   "metadata": {},
   "outputs": [
    {
     "data": {
      "image/png": "[encoded data removed]",
      "text/plain": [
       "<Figure size 576x432 with 1 Axes>"
      ]
     },
     "metadata": {
      "needs_background": "light"
     },
     "output_type": "display_data"
    }
   ],
   "source": [
    "popt,_=curve_fit(objective_sin,x,y)\n",
    "a,b,c,d=popt\n",
    "plt.figure(figsize=(8,6))\n",
    "plt.scatter(x,y)\n",
    "x_line=np.arange(min(x),max(x),0.1)\n",
    "y_sin=objective_sin(x_line,a,b,c,d)\n",
    "plt.plot(x_line,y_sin,'--')\n",
    "plt.show()"
   ]
  },
  {
   "cell_type": "code",
   "execution_count": 45,
   "id": "2cba39d1",
   "metadata": {},
   "outputs": [
    {
     "data": {
      "image/png": "[encoded data removed]",
      "text/plain": [
       "<Figure size 576x432 with 1 Axes>"
      ]
     },
     "metadata": {
      "needs_background": "light"
     },
     "output_type": "display_data"
    }
   ],
   "source": [
    "popt,_=curve_fit(objective_sin,x,y)\n",
    "a,b,c,d=popt\n",
    "plt.figure(figsize=(8,6))\n",
    "plt.scatter(x,y,marker='x',s=80)\n",
    "x_line=np.arange(min(x),max(x),0.1)\n",
    "plt.plot(x_line,y_1,'--',label='x')\n",
    "plt.plot(x_line,y_2,'--',label='x^2')\n",
    "plt.plot(x_line,y_5,'--',label='x^5')\n",
    "plt.plot(x_line,y_sin,'--',label='sin')\n",
    "plt.legend()\n",
    "plt.show()"
   ]
  },
  {
   "cell_type": "markdown",
   "id": "abb27e6b",
   "metadata": {},
   "source": [
    "# Optimization Hill Climbing\n",
    "<br>\n",
    "find minimum of given function using n iteraion"
   ]
  },
  {
   "cell_type": "code",
   "execution_count": 2,
   "id": "8c1aa07c",
   "metadata": {},
   "outputs": [],
   "source": [
    "import matplotlib.pyplot as plt\n",
    "%matplotlib inline\n",
    "from numpy.random import rand\n",
    "from numpy.random import randn"
   ]
  },
  {
   "cell_type": "code",
   "execution_count": 4,
   "id": "ee375e82",
   "metadata": {},
   "outputs": [],
   "source": [
    "def objective(x):\n",
    "    return 0"
   ]
  },
  {
   "cell_type": "code",
   "execution_count": 7,
   "id": "6547d320",
   "metadata": {},
   "outputs": [
    {
     "data": {
      "text/plain": [
       "array([[-5.,  5.]])"
      ]
     },
     "execution_count": 7,
     "metadata": {},
     "output_type": "execute_result"
    }
   ],
   "source": [
    "# define  1D range for input\n",
    "bounds=np.asarray([[-5.0,5.0]])\n",
    "bounds"
   ]
  },
  {
   "cell_type": "code",
   "execution_count": 8,
   "id": "c9ccfa92",
   "metadata": {},
   "outputs": [
    {
     "data": {
      "text/plain": [
       "1"
      ]
     },
     "execution_count": 8,
     "metadata": {},
     "output_type": "execute_result"
    }
   ],
   "source": [
    "len(bounds)"
   ]
  },
  {
   "cell_type": "code",
   "execution_count": 11,
   "id": "590a1bf4",
   "metadata": {},
   "outputs": [
    {
     "name": "stdout",
     "output_type": "stream",
     "text": [
      "[5.]\n",
      "[-5.]\n"
     ]
    },
    {
     "data": {
      "text/plain": [
       "array([10.])"
      ]
     },
     "execution_count": 11,
     "metadata": {},
     "output_type": "execute_result"
    }
   ],
   "source": [
    "print(bounds[:,1])\n",
    "print(bounds[:,0])\n",
    "bounds[:,1]-bounds[:,0]"
   ]
  },
  {
   "cell_type": "code",
   "execution_count": 18,
   "id": "b2e131e0",
   "metadata": {},
   "outputs": [
    {
     "name": "stdout",
     "output_type": "stream",
     "text": [
      "[0.788667]\n"
     ]
    }
   ],
   "source": [
    "# it will genrate uniform distribution b.w 0-1 becuase len =1\n",
    "print(rand(len(bounds)))"
   ]
  },
  {
   "cell_type": "code",
   "execution_count": 19,
   "id": "815cbf46",
   "metadata": {},
   "outputs": [
    {
     "data": {
      "text/plain": [
       "array([-4.16113667])"
      ]
     },
     "execution_count": 19,
     "metadata": {},
     "output_type": "execute_result"
    }
   ],
   "source": [
    "#genrate an intial value\n",
    "solution=bounds[:,0]+rand(len(bounds))*(bounds[:,1]-bounds[:,0])\n",
    "solution"
   ]
  },
  {
   "cell_type": "code",
   "execution_count": 20,
   "id": "29ce576f",
   "metadata": {},
   "outputs": [
    {
     "data": {
      "text/plain": [
       "0"
      ]
     },
     "execution_count": 20,
     "metadata": {},
     "output_type": "execute_result"
    }
   ],
   "source": [
    "#evaluate the initial point\n",
    "solution_eval=objective(solution)\n",
    "solution_eval"
   ]
  },
  {
   "cell_type": "code",
   "execution_count": 35,
   "id": "7af1c2b1",
   "metadata": {},
   "outputs": [
    {
     "name": "stdout",
     "output_type": "stream",
     "text": [
      "[0.09414152]\n"
     ]
    }
   ],
   "source": [
    "print(randn(len(bounds))) # normal distribution"
   ]
  },
  {
   "cell_type": "code",
   "execution_count": 37,
   "id": "8f7a8d3f",
   "metadata": {},
   "outputs": [
    {
     "name": "stdout",
     "output_type": "stream",
     "text": [
      ">0 f([-4.32861329]) = 0.00000\n",
      ">1 f([-4.3687903]) = 0.00000\n",
      ">2 f([-4.47020087]) = 0.00000\n",
      ">3 f([-4.47930423]) = 0.00000\n",
      ">4 f([-4.52217518]) = 0.00000\n",
      ">5 f([-4.73329951]) = 0.00000\n",
      ">6 f([-4.76186195]) = 0.00000\n",
      ">7 f([-4.63013311]) = 0.00000\n",
      ">8 f([-4.57960014]) = 0.00000\n",
      ">9 f([-4.67434147]) = 0.00000\n"
     ]
    }
   ],
   "source": [
    "n_iteration=10\n",
    "step_size=0.1\n",
    "\n",
    "for i in range(n_iteration):\n",
    "    candidate= solution+(randn(len(bounds))*step_size)\n",
    "    candidate_eval=objective(candidate)\n",
    "    \n",
    "    if candidate_eval<=solution_eval:\n",
    "        solution,solution_eval=candidate,candidate_eval\n",
    "        print('>%d f(%s) = %.5f'% (i,solution,solution_eval))"
   ]
  },
  {
   "cell_type": "code",
   "execution_count": 50,
   "id": "b35ea2ab",
   "metadata": {},
   "outputs": [],
   "source": [
    "def hillClimbing(objective,bounds,n_iteration,step_size,debug=True):\n",
    "    all_candidate=[]\n",
    "    solution=bounds[:,0]+rand(len(bounds))*(bounds[:,1]-bounds[:,0])\n",
    "    solution_eval=objective(solution)\n",
    "    \n",
    "    for i in range(n_iteration):\n",
    "        candidate= solution+(randn(len(bounds))*step_size)\n",
    "        candidate_eval=objective(candidate)\n",
    "        \n",
    "        all_candidate.append(candidate)\n",
    "        \n",
    "        if candidate_eval<=solution_eval:\n",
    "            solution,solution_eval=candidate,candidate_eval\n",
    "            if debug:\n",
    "                print('>%d f(%s) = %.5f'% (i,solution,solution_eval))\n",
    "    return [solution,solution_eval,all_candidate]            "
   ]
  },
  {
   "cell_type": "code",
   "execution_count": 51,
   "id": "3e39a331",
   "metadata": {},
   "outputs": [],
   "source": [
    "def objective(x):\n",
    "    return (x-2)**2.0"
   ]
  },
  {
   "cell_type": "code",
   "execution_count": 52,
   "id": "63ecc4e1",
   "metadata": {},
   "outputs": [
    {
     "data": {
      "image/png": "[encoded data removed]",
      "text/plain": [
       "<Figure size 720x576 with 1 Axes>"
      ]
     },
     "metadata": {
      "needs_background": "light"
     },
     "output_type": "display_data"
    }
   ],
   "source": [
    "x_range=np.arange(-5.0,5.0,0.1)\n",
    "y_range=objective(x_range)\n",
    "plt.figure(figsize=(10,8))\n",
    "plt.plot(x_range,y_range)\n",
    "plt.grid()\n",
    "plt.show()"
   ]
  },
  {
   "cell_type": "code",
   "execution_count": 53,
   "id": "1a408669",
   "metadata": {},
   "outputs": [
    {
     "name": "stdout",
     "output_type": "stream",
     "text": [
      ">1 f([-2.74290923]) = 22.49519\n",
      ">3 f([-2.65873147]) = 21.70378\n",
      ">4 f([-2.52197291]) = 20.44824\n",
      ">5 f([-2.46450214]) = 19.93178\n",
      ">7 f([-2.44740961]) = 19.77945\n",
      ">9 f([-2.28364676]) = 18.34963\n",
      ">12 f([-2.19245939]) = 17.57672\n",
      ">14 f([-2.01001538]) = 16.08022\n",
      ">15 f([-1.86425287]) = 14.93245\n",
      ">22 f([-1.79913002]) = 14.43339\n",
      ">24 f([-1.57525573]) = 12.78245\n",
      ">25 f([-1.55047719]) = 12.60589\n",
      ">26 f([-1.51783757]) = 12.37518\n",
      ">27 f([-1.49118756]) = 12.18839\n",
      ">28 f([-1.45344116]) = 11.92626\n",
      ">30 f([-1.33055275]) = 11.09258\n",
      ">32 f([-1.17805016]) = 10.10000\n",
      ">33 f([-1.15189314]) = 9.93443\n",
      ">36 f([-1.03852644]) = 9.23264\n",
      ">37 f([-0.99135322]) = 8.94819\n",
      ">38 f([-0.79448984]) = 7.80917\n",
      ">39 f([-0.69837955]) = 7.28125\n",
      ">42 f([-0.69317313]) = 7.25318\n",
      ">46 f([-0.61801423]) = 6.85400\n",
      ">48 f([-0.48799625]) = 6.19013\n",
      ">50 f([-0.22149135]) = 4.93502\n",
      ">54 f([-0.20017144]) = 4.84075\n",
      ">57 f([-0.15994446]) = 4.66536\n",
      ">60 f([-0.15492485]) = 4.64370\n",
      ">61 f([-0.03572481]) = 4.14418\n",
      ">62 f([0.10263483]) = 3.59999\n",
      ">64 f([0.10784703]) = 3.58024\n",
      ">66 f([0.13093134]) = 3.49342\n",
      ">71 f([0.2542749]) = 3.04756\n",
      ">72 f([0.31961548]) = 2.82369\n",
      ">75 f([0.3740113]) = 2.64384\n",
      ">77 f([0.4436867]) = 2.42211\n",
      ">78 f([0.44909143]) = 2.40532\n",
      ">80 f([0.52391219]) = 2.17884\n",
      ">81 f([0.55453555]) = 2.08937\n",
      ">82 f([0.63467194]) = 1.86412\n",
      ">83 f([0.73352156]) = 1.60397\n",
      ">84 f([0.83465933]) = 1.35802\n",
      ">85 f([0.91091152]) = 1.18611\n",
      ">87 f([0.93714507]) = 1.12966\n",
      ">92 f([1.07036968]) = 0.86421\n",
      ">99 f([1.11416469]) = 0.78470\n",
      ">100 f([1.16645948]) = 0.69479\n",
      ">102 f([1.20306473]) = 0.63511\n",
      ">103 f([1.33014973]) = 0.44870\n",
      ">104 f([1.3376069]) = 0.43876\n",
      ">105 f([1.38646278]) = 0.37643\n",
      ">106 f([1.47566834]) = 0.27492\n",
      ">108 f([1.49466225]) = 0.25537\n",
      ">110 f([1.70792902]) = 0.08531\n",
      ">113 f([1.77759452]) = 0.04946\n",
      ">115 f([1.87447318]) = 0.01576\n",
      ">116 f([2.05866353]) = 0.00344\n",
      ">117 f([1.94592835]) = 0.00292\n",
      ">118 f([2.00205156]) = 0.00000\n",
      ">120 f([2.00035873]) = 0.00000\n",
      ">921 f([2.00027351]) = 0.00000\n",
      "f([2.00027351])=0.000000\n"
     ]
    }
   ],
   "source": [
    "np.random.seed(5)\n",
    "#define range\n",
    "bounds=np.asarray([[-5.0,5.0]])\n",
    "\n",
    "# define the maximum iteration\n",
    "n_iteration=1000\n",
    "\n",
    "#define step_size\n",
    "\n",
    "step_size=0.1\n",
    "\n",
    "# perform hill climbing search\n",
    "\n",
    "best,score,all_candidate=hillClimbing(objective,bounds,n_iteration,step_size,True)\n",
    "print('f(%s)=%f'%(best,score))"
   ]
  },
  {
   "cell_type": "code",
   "execution_count": 55,
   "id": "56926a4d",
   "metadata": {},
   "outputs": [
    {
     "data": {
      "image/png": "[encoded data removed]",
      "text/plain": [
       "<Figure size 720x576 with 1 Axes>"
      ]
     },
     "metadata": {
      "needs_background": "light"
     },
     "output_type": "display_data"
    }
   ],
   "source": [
    "all_candidate=np.asarray(all_candidate)\n",
    "y_all=objective(all_candidate)\n",
    "plt.figure(figsize=(10,8))\n",
    "plt.scatter(all_candidate,y_all,marker='x',s=80)\n",
    "#plt.xlim([-1,2.1])\n",
    "#plt.xlim([1.99,2.01])\n",
    "plt.show()"
   ]
  },
  {
   "cell_type": "code",
   "execution_count": 56,
   "id": "fc49d724",
   "metadata": {},
   "outputs": [],
   "source": [
    "from numpy import sin,cos\n",
    "def objective(x):\n",
    "    return sin(x)+cos(x/2)\n",
    "    "
   ]
  },
  {
   "cell_type": "code",
   "execution_count": 59,
   "id": "6a11252e",
   "metadata": {},
   "outputs": [
    {
     "data": {
      "image/png": "[encoded data removed]",
      "text/plain": [
       "<Figure size 720x576 with 1 Axes>"
      ]
     },
     "metadata": {
      "needs_background": "light"
     },
     "output_type": "display_data"
    }
   ],
   "source": [
    "x_range=np.arange(-5.0,8.0,0.1)\n",
    "y_range=objective(x_range)\n",
    "plt.figure(figsize=(10,8))\n",
    "plt.plot(x_range,y_range)\n",
    "plt.scatter(5,objective(5),s=100)\n",
    "plt.grid()\n",
    "plt.show()"
   ]
  },
  {
   "cell_type": "code",
   "execution_count": 60,
   "id": "2011177f",
   "metadata": {},
   "outputs": [
    {
     "name": "stdout",
     "output_type": "stream",
     "text": [
      ">1 f([1.36911808]) = 1.75443\n",
      ">3 f([1.45329585]) = 1.74051\n",
      ">4 f([1.5900544]) = 1.70008\n",
      ">5 f([1.64752517]) = 1.67652\n",
      ">7 f([1.66461771]) = 1.66877\n",
      ">9 f([1.82838056]) = 1.57744\n",
      ">12 f([1.91956792]) = 1.51349\n",
      ">14 f([2.10201194]) = 1.35889\n",
      ">15 f([2.24777445]) = 1.21165\n",
      ">22 f([2.3128973]) = 1.13964\n",
      ">24 f([2.53677159]) = 0.86644\n",
      ">25 f([2.56155013]) = 0.83403\n",
      ">26 f([2.59418974]) = 0.79077\n",
      ">27 f([2.62083976]) = 0.75498\n",
      ">28 f([2.65858616]) = 0.70361\n",
      ">30 f([2.78147457]) = 0.53147\n",
      ">32 f([2.93397716]) = 0.30975\n",
      ">33 f([2.96013418]) = 0.27107\n",
      ">36 f([3.07350087]) = 0.10208\n",
      ">37 f([3.12067409]) = 0.03138\n",
      ">38 f([3.31753747]) = -0.26290\n",
      ">39 f([3.41364777]) = -0.40432\n",
      ">42 f([3.41885418]) = -0.41191\n",
      ">46 f([3.49401309]) = -0.52047\n",
      ">48 f([3.62403106]) = -0.70283\n",
      ">50 f([3.89053597]) = -1.04665\n",
      ">54 f([3.91185587]) = -1.07201\n",
      ">57 f([3.95208285]) = -1.11887\n",
      ">60 f([3.95710247]) = -1.12462\n",
      ">61 f([4.0763025]) = -1.25495\n",
      ">62 f([4.21466214]) = -1.38983\n",
      ">64 f([4.21987434]) = -1.39455\n",
      ">66 f([4.24295866]) = -1.41510\n",
      ">71 f([4.36630222]) = -1.51550\n",
      ">72 f([4.43164279]) = -1.56207\n",
      ">75 f([4.48603861]) = -1.59722\n",
      ">77 f([4.55571402]) = -1.63735\n",
      ">78 f([4.56111875]) = -1.64023\n",
      ">80 f([4.6359395]) = -1.67665\n",
      ">81 f([4.66656286]) = -1.68967\n",
      ">82 f([4.74669925]) = -1.71854\n",
      ">83 f([4.84554887]) = -1.74373\n",
      ">84 f([4.94668664]) = -1.75759\n",
      ">85 f([5.02293883]) = -1.76012\n",
      ">86 f([5.01595471]) = -1.76017\n",
      ">120 f([5.01426187]) = -1.76017\n",
      ">324 f([5.01319781]) = -1.76017\n",
      "f([5.01319781])=-1.760173\n"
     ]
    }
   ],
   "source": [
    "np.random.seed(5)\n",
    "#define range\n",
    "bounds=np.asarray([[0.0,6.0]])\n",
    "\n",
    "# define the maximum iteration\n",
    "n_iteration=1000\n",
    "\n",
    "#define step_size\n",
    "\n",
    "step_size=0.1\n",
    "\n",
    "# perform hill climbing search\n",
    "\n",
    "best,score,all_candidate=hillClimbing(objective,bounds,n_iteration,step_size,True)\n",
    "print('f(%s)=%f'%(best,score))"
   ]
  },
  {
   "cell_type": "code",
   "execution_count": 61,
   "id": "6f170b97",
   "metadata": {},
   "outputs": [
    {
     "data": {
      "image/png": "[encoded data removed]",
      "text/plain": [
       "<Figure size 720x576 with 1 Axes>"
      ]
     },
     "metadata": {
      "needs_background": "light"
     },
     "output_type": "display_data"
    }
   ],
   "source": [
    "all_candidate=np.asarray(all_candidate)\n",
    "y_all=objective(all_candidate)\n",
    "plt.figure(figsize=(10,8))\n",
    "plt.scatter(all_candidate,y_all,marker='x',s=80)\n",
    "#plt.xlim([-1,2.1])\n",
    "#plt.xlim([1.99,2.01])\n",
    "plt.show()"
   ]
  },
  {
   "cell_type": "markdown",
   "id": "8fe1176c",
   "metadata": {},
   "source": [
    "**Note:If we want to find maximum then simple multiply function with -ve**"
   ]
  },
  {
   "cell_type": "markdown",
   "id": "62af2c5c",
   "metadata": {},
   "source": [
    "# Optimization -Gradient Descent\n",
    "<br>\n",
    "$ x:=x - {\\alpha}.dx(j(x))$"
   ]
  },
  {
   "cell_type": "code",
   "execution_count": 1,
   "id": "fbaf0290",
   "metadata": {},
   "outputs": [],
   "source": [
    "import matplotlib.pyplot as plt\n",
    "%matplotlib inline\n",
    "from numpy.random import rand\n",
    "from numpy.random import randn"
   ]
  },
  {
   "cell_type": "code",
   "execution_count": 2,
   "id": "3d3c9217",
   "metadata": {},
   "outputs": [],
   "source": [
    "def objective(x):\n",
    "    return x**2.0"
   ]
  },
  {
   "cell_type": "code",
   "execution_count": 3,
   "id": "5ffefe83",
   "metadata": {},
   "outputs": [],
   "source": [
    "def derivate(x):\n",
    "    return 2.0*x"
   ]
  },
  {
   "cell_type": "code",
   "execution_count": 4,
   "id": "780d0405",
   "metadata": {},
   "outputs": [
    {
     "data": {
      "image/png": "[encoded data removed]",
      "text/plain": [
       "<Figure size 432x288 with 1 Axes>"
      ]
     },
     "metadata": {
      "needs_background": "light"
     },
     "output_type": "display_data"
    }
   ],
   "source": [
    "r_min,r_max=-1.0,1.0\n",
    "\n",
    "inputs=np.arange(r_min,r_max+0.1,0.1)\n",
    "\n",
    "results=objective(inputs)\n",
    "\n",
    "plt.plot(inputs,results)\n",
    "\n",
    "plt.show()\n"
   ]
  },
  {
   "cell_type": "code",
   "execution_count": 8,
   "id": "ba2cb5dc",
   "metadata": {},
   "outputs": [],
   "source": [
    "def gradientDescent(objective,derivate,bounds,n_iteration,alpha,debug=True):\n",
    "    all_candidate=[]\n",
    "    solution=bounds[:,0]+rand(len(bounds))*(bounds[:,1]-bounds[:,0])\n",
    "    print(\"Solutinon:\",solution)\n",
    "    for i in range(n_iteration):\n",
    "        #find gradient/derivate\n",
    "        gradient=derivate(solution)\n",
    "        #take a step or formuala of gradient descent\n",
    "        solution=solution - (alpha * gradient) \n",
    "        # evaluate candidate point\n",
    "        solution_eval=objective(solution)\n",
    "        all_candidate.append(solution_eval)\n",
    "    \n",
    "        if debug:\n",
    "                print('>%d f(%s) = %.5f'% (i,solution,solution_eval))\n",
    "    return [solution,solution_eval,all_candidate]            "
   ]
  },
  {
   "cell_type": "code",
   "execution_count": 9,
   "id": "946c5258",
   "metadata": {},
   "outputs": [
    {
     "name": "stdout",
     "output_type": "stream",
     "text": [
      "Solutinon: [0.83405301]\n",
      ">0 f([0.66724241]) = 0.44521\n",
      ">1 f([0.53379393]) = 0.28494\n",
      ">2 f([0.42703514]) = 0.18236\n",
      "Done!\n",
      "f([0.42703514])=0.182359\n"
     ]
    }
   ],
   "source": [
    "\n",
    "#define range\n",
    "bounds=np.asarray([[-1.0,1.0]])\n",
    "\n",
    "# define the maximum iteration\n",
    "n_iteration=3\n",
    "\n",
    "#define step_size\n",
    "\n",
    "alpha=0.1\n",
    "\n",
    "# perform hill gradient descent search\n",
    "\n",
    "best,score,all_candidate=gradientDescent(objective,derivate,bounds,n_iteration,alpha,True)\n",
    "print('Done!')\n",
    "print('f(%s)=%f'%(best,score))"
   ]
  },
  {
   "cell_type": "code",
   "execution_count": 82,
   "id": "cd8ac3cb",
   "metadata": {},
   "outputs": [
    {
     "data": {
      "image/png": "[encoded data removed]",
      "text/plain": [
       "<Figure size 720x576 with 1 Axes>"
      ]
     },
     "metadata": {
      "needs_background": "light"
     },
     "output_type": "display_data"
    }
   ],
   "source": [
    "all_candidate=np.asarray(all_candidate)\n",
    "y_all=objective(all_candidate)\n",
    "plt.figure(figsize=(10,8))\n",
    "plt.scatter(all_candidate,y_all,marker='x',s=80)\n",
    "#plt.xlim([-1,2.1])\n",
    "#plt.xlim([1.99,2.01])\n",
    "plt.show()"
   ]
  },
  {
   "cell_type": "code",
   "execution_count": null,
   "id": "9e74c51c",
   "metadata": {},
   "outputs": [],
   "source": []
  }
 ],
 "metadata": {
  "kernelspec": {
   "display_name": "Python 3 (ipykernel)",
   "language": "python",
   "name": "python3"
  },
  "language_info": {
   "codemirror_mode": {
    "name": "ipython",
    "version": 3
   },
   "file_extension": ".py",
   "mimetype": "text/x-python",
   "name": "python",
   "nbconvert_exporter": "python",
   "pygments_lexer": "ipython3",
   "version": "3.9.7"
  },
  "varInspector": {
   "cols": {
    "lenName": 16,
    "lenType": 16,
    "lenVar": 40
   },
   "kernels_config": {
    "python": {
     "delete_cmd_postfix": "",
     "delete_cmd_prefix": "del ",
     "library": "var_list.py",
     "varRefreshCmd": "print(var_dic_list())"
    },
    "r": {
     "delete_cmd_postfix": ") ",
     "delete_cmd_prefix": "rm(",
     "library": "var_list.r",
     "varRefreshCmd": "cat(var_dic_list()) "
    }
   },
   "types_to_exclude": [
    "module",
    "function",
    "builtin_function_or_method",
    "instance",
    "_Feature"
   ],
   "window_display": false
  }
 },
 "nbformat": 4,
 "nbformat_minor": 5
}
